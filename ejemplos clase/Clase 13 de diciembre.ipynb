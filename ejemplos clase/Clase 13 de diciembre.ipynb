{
 "cells": [
  {
   "cell_type": "markdown",
   "metadata": {},
   "source": [
    "# Máster en Bioinformática Aplicada a Medicina Personalizada y Salud \n",
    "## clase 13 de diciembre de 2022"
   ]
  },
  {
   "cell_type": "code",
   "execution_count": null,
   "metadata": {},
   "outputs": [],
   "source": [
    "# Entrada/Salida por teclado\n",
    "nombre = input(\"Dime tu nombre: \")\n",
    "print(\"Hola\", nombre)\n",
    "\n",
    "num_alum = int(float(input(\"Número de alumnos: \")))\n",
    "print(type(num_alum))\n",
    "print(num_alum)\n",
    "\n",
    "num_alum = input(\"Número de alumnos: \")\n",
    "print(type(num_alum))\n",
    "\n",
    "num_alum = int(num_alum)\n",
    "print(type(num_alum))\n",
    "\n",
    "print(\"El número de alumnos de la clase es: \", num_alum)\n",
    "print(\"El número de alumnos de la clase es: \", str(num_alum))\n",
    "\n",
    "input(20)"
   ]
  },
  {
   "cell_type": "code",
   "execution_count": 1,
   "metadata": {},
   "outputs": [
    {
     "name": "stdout",
     "output_type": "stream",
     "text": [
      "[34, 93, 478]\n",
      "[12, 34, 93, 478]\n",
      "[12, 34, 93, 478]\n",
      "[2, 347, 80]\n",
      "[2, 347, 80]\n",
      "[12, 34, 93, 478, 901, 2, 347, 80]\n"
     ]
    }
   ],
   "source": [
    "# Troceado de listas\n",
    "lista_num = [12, 34, 93, 478, 901, 2, 347, 80]\n",
    "print(lista_num[1:4])\n",
    "print(lista_num[0:4])\n",
    "print(lista_num[:4])\n",
    "print(lista_num[5:8])\n",
    "print(lista_num[5:])\n",
    "print(lista_num[:])"
   ]
  },
  {
   "cell_type": "code",
   "execution_count": 2,
   "metadata": {},
   "outputs": [
    {
     "name": "stdout",
     "output_type": "stream",
     "text": [
      "None\n"
     ]
    }
   ],
   "source": [
    "lista = [1, 2, 3, 2, 4]\n",
    "lista02 = lista.remove(2)\n",
    "print(lista02)"
   ]
  },
  {
   "cell_type": "code",
   "execution_count": null,
   "metadata": {},
   "outputs": [],
   "source": [
    "aminoacidos=[\"alanina\", \"valina\", \"triptofano\", \"histidina\", \"serina\"]\n",
    "print(aminoacidos)\n",
    "\n",
    "aminoacidos.append(\"treonina\")\n",
    "print(aminoacidos)\n",
    "\n",
    "# TODO: convertir una lista de cadenas a una cadena (join)\n",
    "eliminado=input(\"Qué aminoácido desea eliminar? \\n\" + aminoacidos)\n",
    "#eliminado=input(\"Qué aminoácido desea eliminar? \\n\" + \" \".join(aminoacidos))\n",
    "\n"
   ]
  },
  {
   "cell_type": "code",
   "execution_count": null,
   "metadata": {},
   "outputs": [],
   "source": [
    "lista_aa=[\"Ala\", \"Arg\", \"Asn\", \"Asp\", \"Cys\", \"Gln\"]\n",
    "print(lista_aa)"
   ]
  },
  {
   "cell_type": "code",
   "execution_count": 3,
   "metadata": {},
   "outputs": [
    {
     "name": "stdout",
     "output_type": "stream",
     "text": [
      "Hola soy una cadena.\n",
      "Yo soy la misma cadena en la línea siguiente.\n",
      "Nombre: Carlos\t\tApellidos: González Calvo\n"
     ]
    }
   ],
   "source": [
    "cadena = \"Hola soy una cadena.\\nYo soy la misma cadena en la línea siguiente.\"\n",
    "print(cadena)\n",
    "\n",
    "cadena = \"Nombre: Carlos\\t\\tApellidos: González Calvo\"\n",
    "print(cadena)"
   ]
  },
  {
   "cell_type": "code",
   "execution_count": 5,
   "metadata": {},
   "outputs": [
    {
     "name": "stdout",
     "output_type": "stream",
     "text": [
      "c:\n",
      "opath\n",
      "c:\\nopath\n"
     ]
    }
   ],
   "source": [
    "cadena = \"c:\\nopath\"\n",
    "print(cadena)\n",
    "\n",
    "cadena = r\"c:\\nopath\"\n",
    "print(cadena)"
   ]
  },
  {
   "cell_type": "code",
   "execution_count": 6,
   "metadata": {},
   "outputs": [
    {
     "name": "stdout",
     "output_type": "stream",
     "text": [
      "c:\\nopath\n",
      "c:\\otraruta\n"
     ]
    }
   ],
   "source": [
    "cadena = \"c:\\\\nopath\\nc:\\\\otraruta\"\n",
    "print(cadena)"
   ]
  },
  {
   "cell_type": "code",
   "execution_count": 7,
   "metadata": {},
   "outputs": [
    {
     "name": "stdout",
     "output_type": "stream",
     "text": [
      "True\n"
     ]
    }
   ],
   "source": [
    "frase = \"La casa es verde y es mi color favorito\"\n",
    "b = \"color\" in frase\n",
    "print(b)"
   ]
  },
  {
   "cell_type": "code",
   "execution_count": 8,
   "metadata": {},
   "outputs": [
    {
     "name": "stdout",
     "output_type": "stream",
     "text": [
      "hola;\n",
      "adiós;\n"
     ]
    }
   ],
   "source": [
    "cadena = \"hola \"\n",
    "cadena = cadena.strip()\n",
    "print(cadena + \";\")\n",
    "\n",
    "cadena = \"adiós\\n\"\n",
    "cadena = cadena.strip()\n",
    "print(cadena + \";\")"
   ]
  },
  {
   "cell_type": "code",
   "execution_count": 9,
   "metadata": {},
   "outputs": [
    {
     "name": "stdout",
     "output_type": "stream",
     "text": [
      "agtcAaAAa\n",
      "AGTCAAAAA\n"
     ]
    }
   ],
   "source": [
    "cadena = \"agtcAaAAa\"\n",
    "cadena02 = cadena.upper()\n",
    "print(cadena)\n",
    "print(cadena02)"
   ]
  },
  {
   "cell_type": "code",
   "execution_count": null,
   "metadata": {},
   "outputs": [],
   "source": []
  }
 ],
 "metadata": {
  "kernelspec": {
   "display_name": "Python 3 (ipykernel)",
   "language": "python",
   "name": "python3"
  },
  "language_info": {
   "codemirror_mode": {
    "name": "ipython",
    "version": 3
   },
   "file_extension": ".py",
   "mimetype": "text/x-python",
   "name": "python",
   "nbconvert_exporter": "python",
   "pygments_lexer": "ipython3",
   "version": "3.11.1"
  }
 },
 "nbformat": 4,
 "nbformat_minor": 2
}
