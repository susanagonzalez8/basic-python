{
 "cells": [
  {
   "cell_type": "markdown",
   "metadata": {},
   "source": [
    "# Máster en Bioinformática Aplicada a Medicina Personalizada y Salud \n",
    "## clase 20 de diciembre de 2022"
   ]
  },
  {
   "cell_type": "markdown",
   "metadata": {},
   "source": [
    "### Módulo os (para directorios)"
   ]
  },
  {
   "cell_type": "code",
   "execution_count": 11,
   "metadata": {},
   "outputs": [
    {
     "name": "stdout",
     "output_type": "stream",
     "text": [
      "C:\\UCM\\Docencia\\2021-2022\\Master BIO Python\\clase\n",
      "['.ipynb_checkpoints', 'Clase 2 de diciembre.ipynb', 'Clase 25 de noviembre.ipynb', 'Clase 29 de noviembre.ipynb', 'Clase 30 de noviembre.ipynb', 'Copia de cuento.txt', 'cuento.txt', 'diccionario codones a animoácidos.ipynb', 'Directorios completo.ipynb', 'Directorios vacio.ipynb', 'ejemploGenbank.gb', 'ejercicios hechos hasta 30 nov.zip', 'Ejercicios_extra_condicionales_y_bucles.ipynb', 'ejercicios_masterBIO_python (1 de diciembre).ipynb', 'ejercicios_masterBIO_python.ipynb', 'OLD', 'prueba.txt']\n",
      "Introduzca una ruta: ./\n",
      "La ruta existe\n",
      "1638472137.1821542\n",
      "Thu Dec  2 20:08:57 2021\n",
      "12288\n",
      "False\n",
      "True\n",
      "True\n",
      "False\n"
     ]
    }
   ],
   "source": [
    "# importamos el módulo os\n",
    "import os\n",
    "\n",
    "# consultamos cuál es la carpeta actual\n",
    "ruta_actual = os.getcwd()\n",
    "print(ruta_actual)\n",
    "\n",
    "# listas todos las carpetas y ficheros del directorio de trabajo\n",
    "lista_directorios = os.listdir(ruta_actual)\n",
    "print(lista_directorios)\n",
    "\n",
    "# comprobamos si la ruta que introduce el usuario existe\n",
    "ruta = input(\"Introduzca una ruta: \")\n",
    "if os.path.exists(ruta) :\n",
    "    print(\"La ruta existe\")\n",
    "else :\n",
    "    print(\"Ruta inexistente\")\n",
    "    \n",
    "# consultamos la fecha de modificación del directorio\n",
    "fecha_ultimo_acceso = os.path.getatime(ruta_actual)\n",
    "print(fecha_ultimo_acceso)\n",
    "\n",
    "import time\n",
    "fecha_convertida = time.ctime(fecha_ultimo_acceso)\n",
    "print(fecha_convertida)\n",
    "\n",
    "# tamaño de una ruta\n",
    "size = os.path.getsize(ruta_actual)\n",
    "print(size)\n",
    "\n",
    "# consultamos si la ruta se corresponde con un fichero\n",
    "is_file = os.path.isfile(ruta_actual)\n",
    "print(is_file)\n",
    "is_file = os.path.isfile(r\"diccionario codones a animoácidos.ipynb\")\n",
    "print(is_file)\n",
    "\n",
    "# consultamos si la ruta se corresponde con una carpeta\n",
    "is_dir = os.path.isdir(ruta_actual)\n",
    "print(is_dir)\n",
    "is_file = os.path.isdir(r\"diccionario codones a animoácidos.ipynb\")\n",
    "print(is_file)"
   ]
  },
  {
   "cell_type": "code",
   "execution_count": null,
   "metadata": {},
   "outputs": [],
   "source": []
  }
 ],
 "metadata": {
  "kernelspec": {
   "display_name": "Python 3 (ipykernel)",
   "language": "python",
   "name": "python3"
  },
  "language_info": {
   "codemirror_mode": {
    "name": "ipython",
    "version": 3
   },
   "file_extension": ".py",
   "mimetype": "text/x-python",
   "name": "python",
   "nbconvert_exporter": "python",
   "pygments_lexer": "ipython3",
   "version": "3.11.0"
  }
 },
 "nbformat": 4,
 "nbformat_minor": 2
}
