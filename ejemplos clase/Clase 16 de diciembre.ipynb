{
 "cells": [
  {
   "cell_type": "markdown",
   "metadata": {},
   "source": [
    "# Máster en Bioinformática Aplicada a Medicina Personalizada y Salud \n",
    "## clase 15 de diciembre de 2022"
   ]
  },
  {
   "cell_type": "markdown",
   "metadata": {},
   "source": [
    "### Funciones"
   ]
  },
  {
   "cell_type": "code",
   "execution_count": 3,
   "metadata": {},
   "outputs": [
    {
     "name": "stdout",
     "output_type": "stream",
     "text": [
      "Hola\n",
      "Hola Pepe\n",
      "Hola Pepe Pérez González\n"
     ]
    }
   ],
   "source": [
    "# definición de funciones\n",
    "#def saluda(nombre) :\n",
    "#    print(\"Hola\", nombre)\n",
    "\n",
    "def saluda() :\n",
    "    print(\"Hola\")    \n",
    "    \n",
    "def saluda_nombre(nombre) :\n",
    "    print(\"Hola\", nombre)    \n",
    "    \n",
    "def saluda_nombre_apellido(nombre, primer_apellido, segundo_apellido) :\n",
    "    print(\"Hola\", nombre, primer_apellido, segundo_apellido)    \n",
    "    \n",
    "# programa principal\n",
    "saluda()\n",
    "#saluda('Pepe')\n",
    "saluda_nombre('Pepe')\n",
    "saluda_nombre_apellido('Pepe', 'Pérez', 'González')"
   ]
  },
  {
   "cell_type": "code",
   "execution_count": 9,
   "metadata": {},
   "outputs": [
    {
     "name": "stdout",
     "output_type": "stream",
     "text": [
      "Hola\n",
      "Hola Carlos\n"
     ]
    }
   ],
   "source": [
    "def saluda(nombre=None) :\n",
    "    if nombre :\n",
    "        print(\"Hola\", nombre)\n",
    "    else :\n",
    "        print(\"Hola\")\n",
    "    \n",
    "saluda()\n",
    "saluda(nombre='Carlos')"
   ]
  },
  {
   "cell_type": "code",
   "execution_count": 10,
   "metadata": {},
   "outputs": [
    {
     "name": "stdout",
     "output_type": "stream",
     "text": [
      "Pepe\n",
      "saluda_nombre: Hola Juan\n",
      "saluda_nombre02: Hola Carlos\n",
      "saluda_nombre: Hola Juan\n",
      "Pepe\n"
     ]
    }
   ],
   "source": [
    "# definición de funciones    \n",
    "def saluda_nombre(nombre) :\n",
    "    nombre = 'Juan'\n",
    "    print(\"saluda_nombre: Hola\", nombre)  \n",
    "    saluda_nombre_02(nombre)\n",
    "    print(\"saluda_nombre: Hola\", nombre)\n",
    "\n",
    "def saluda_nombre_02(nombre) :\n",
    "    nombre = 'Carlos'\n",
    "    print(\"saluda_nombre02: Hola\", nombre)      \n",
    "    \n",
    "# programa principal\n",
    "nombre = 'Pepe'\n",
    "print(nombre)\n",
    "saluda_nombre(nombre)\n",
    "print(nombre)"
   ]
  },
  {
   "cell_type": "code",
   "execution_count": null,
   "metadata": {},
   "outputs": [],
   "source": [
    "# Ejemplo de parámetros con tipos estructurados\n",
    "def ordenar_lista(lista_funcion) :\n",
    "    lista_funcion.sort()\n",
    "    print(lista_funcion)\n",
    "\n",
    "lista = [89, 2, 345, 234 , 46, 34]\n",
    "print(lista)\n",
    "ordenar_lista(lista) \n",
    "print(lista)"
   ]
  },
  {
   "cell_type": "code",
   "execution_count": 11,
   "metadata": {},
   "outputs": [
    {
     "name": "stdout",
     "output_type": "stream",
     "text": [
      "5\n"
     ]
    }
   ],
   "source": [
    "# ESTO NO LO HAGÁIS NUNCA ASÍ, pasarle como parámetro los valores que necesitéis\n",
    "def suma() : # lo correcto sería 'def suma(a, b):\n",
    "    return a + b\n",
    "\n",
    "a = 3\n",
    "b = 2\n",
    "c = suma() # lo correcto sería 'suma(a, b)\n",
    "print(c)"
   ]
  }
 ],
 "metadata": {
  "kernelspec": {
   "display_name": "Python 3 (ipykernel)",
   "language": "python",
   "name": "python3"
  },
  "language_info": {
   "codemirror_mode": {
    "name": "ipython",
    "version": 3
   },
   "file_extension": ".py",
   "mimetype": "text/x-python",
   "name": "python",
   "nbconvert_exporter": "python",
   "pygments_lexer": "ipython3",
   "version": "3.11.1"
  }
 },
 "nbformat": 4,
 "nbformat_minor": 2
}
