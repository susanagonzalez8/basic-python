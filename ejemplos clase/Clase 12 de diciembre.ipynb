{
 "cells": [
  {
   "cell_type": "markdown",
   "metadata": {},
   "source": [
    "# Máster en Bioinformática Aplicada a Medicina Personalizada y Salud \n",
    "## clase 12 de diciembre de 2022"
   ]
  },
  {
   "cell_type": "code",
   "execution_count": 1,
   "metadata": {},
   "outputs": [
    {
     "name": "stdout",
     "output_type": "stream",
     "text": [
      "<class 'int'>\n",
      "<class 'float'>\n",
      "<class 'bool'>\n",
      "<class 'str'>\n",
      "25\n"
     ]
    }
   ],
   "source": [
    "# tipos básicos de datos en Python\n",
    "# Númericos\n",
    "# enteros\n",
    "54          # literal\n",
    "entero = 37 # variable\n",
    "print(type(entero))\n",
    "\n",
    "# decimales\n",
    "23.6           # literal\n",
    "decimal = 21.5 # variable\n",
    "print(type(decimal))\n",
    "\n",
    "# Booleanos\n",
    "True          # literal\n",
    "False         # literal\n",
    "cierto = True # variable\n",
    "print(type(cierto))\n",
    "\n",
    "# cadenas\n",
    "\"Hola soy una cadena\"          # literal\n",
    "cadena = \"Mi nombre es Carlos\" # variable\n",
    "print(type(cadena))\n",
    "\n",
    "# Constantes\n",
    "# Realmente no existe. Usamos una aproximación\n",
    "NUM_ALUMNOS = 40\n",
    "NUM_ALUMNOS = 25\n",
    "print(NUM_ALUMNOS)"
   ]
  },
  {
   "cell_type": "code",
   "execution_count": 11,
   "metadata": {
    "scrolled": true
   },
   "outputs": [
    {
     "name": "stdout",
     "output_type": "stream",
     "text": [
      "2\n",
      "2\n",
      "3\n",
      "2\n",
      "5\n"
     ]
    },
    {
     "ename": "NameError",
     "evalue": "name 'c' is not defined",
     "output_type": "error",
     "traceback": [
      "\u001b[1;31m---------------------------------------------------------------------------\u001b[0m",
      "\u001b[1;31mNameError\u001b[0m                                 Traceback (most recent call last)",
      "Cell \u001b[1;32mIn[11], line 11\u001b[0m\n\u001b[0;32m      9\u001b[0m d \u001b[38;5;241m=\u001b[39m a \u001b[38;5;241m+\u001b[39m b\n\u001b[0;32m     10\u001b[0m \u001b[38;5;28mprint\u001b[39m(d)\n\u001b[1;32m---> 11\u001b[0m a \u001b[38;5;241m=\u001b[39m \u001b[43mc\u001b[49m\n",
      "\u001b[1;31mNameError\u001b[0m: name 'c' is not defined"
     ]
    }
   ],
   "source": [
    "# Operador de asignación\n",
    "a = 2\n",
    "print(a)\n",
    "b = a\n",
    "print(b)\n",
    "b = 3\n",
    "print(b)\n",
    "print(a)\n",
    "d = a + b\n",
    "print(d)\n",
    "a = c"
   ]
  },
  {
   "cell_type": "code",
   "execution_count": 12,
   "metadata": {},
   "outputs": [
    {
     "name": "stdout",
     "output_type": "stream",
     "text": [
      "<class 'int'>\n",
      "<class 'str'>\n"
     ]
    }
   ],
   "source": [
    "# Python es un lenguaje no tipado\n",
    "a = 3\n",
    "print(type(a))\n",
    "a = \"cadena\"\n",
    "print(type(a))"
   ]
  },
  {
   "cell_type": "code",
   "execution_count": 13,
   "metadata": {},
   "outputs": [
    {
     "name": "stdout",
     "output_type": "stream",
     "text": [
      "<class 'float'>\n"
     ]
    }
   ],
   "source": [
    "# Operadores con mezcla de tipos\n",
    "print(type(3.2 + 4))"
   ]
  },
  {
   "cell_type": "code",
   "execution_count": 14,
   "metadata": {},
   "outputs": [
    {
     "name": "stdout",
     "output_type": "stream",
     "text": [
      "Hola mi nombre es: Carlos\n",
      "HolaHolaHola\n"
     ]
    }
   ],
   "source": [
    "# Operadores cadenas\n",
    "cadena = \"Hola mi nombre es: \" + \"Carlos\"\n",
    "print(cadena)\n",
    "cadena = \"Hola\"*3\n",
    "print(cadena)"
   ]
  }
 ],
 "metadata": {
  "kernelspec": {
   "display_name": "Python 3 (ipykernel)",
   "language": "python",
   "name": "python3"
  },
  "language_info": {
   "codemirror_mode": {
    "name": "ipython",
    "version": 3
   },
   "file_extension": ".py",
   "mimetype": "text/x-python",
   "name": "python",
   "nbconvert_exporter": "python",
   "pygments_lexer": "ipython3",
   "version": "3.11.0"
  }
 },
 "nbformat": 4,
 "nbformat_minor": 2
}
