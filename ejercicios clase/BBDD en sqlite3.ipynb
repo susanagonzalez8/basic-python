{
 "cells": [
  {
   "cell_type": "code",
   "execution_count": 8,
   "metadata": {},
   "outputs": [
    {
     "name": "stdout",
     "output_type": "stream",
     "text": [
      "('Juan', 1850.0, 'Recursos Humanos', 'Gerente', '2017-01-04')\n",
      "('Juan', 1850.0)\n"
     ]
    }
   ],
   "source": [
    "import sqlite3\n",
    "\n",
    "# Crear/conectarse a una BBDD\n",
    "con = sqlite3.connect('mydatabase.db')\n",
    "\n",
    "# Obtener el objeto con el que se maneja la BBDD\n",
    "cursorObj = con.cursor()\n",
    "\n",
    "# Crear una tabla\n",
    "cursorObj.execute(\"CREATE TABLE IF NOT EXISTS empleados(nombre text PRIMARY KEY, salario real, departamento text, puesto text, fechaContrato text)\")\n",
    "con.commit()\n",
    "\n",
    "# Borrar una tabla\n",
    "cursorObj.execute('DROP TABLE IF EXISTS proyectos')\n",
    "con.commit()\n",
    "\n",
    "# Insertar una nueva entrada usando literales\n",
    "cursorObj.execute(\"INSERT INTO empleados VALUES('Juan', 1700, 'Recursos Humanos', 'Gerente', '2017-01-04')\")\n",
    "con.commit()\n",
    "\n",
    "# Seleccionar todo el contenido de la tabla\n",
    "cursorObj.execute('SELECT * FROM empleados ')\n",
    "rows = cursorObj.fetchall()\n",
    "for row in rows:\n",
    "    print(row)\n",
    "\n",
    "# Insertar una nueva entrada usando variables\n",
    "entities = ('Pepe', 1800, 'Informática', 'Técnico', '2018-02-06')\n",
    "cursorObj.execute('INSERT INTO empleados(nombre, salario, departamento, puesto, fechaContrato) VALUES(?, ?, ?, ?, ?)', entities)\n",
    "con.commit()\n",
    "\n",
    "# Seleccionar todo el contenido de la tabla\n",
    "cursorObj.execute('SELECT * FROM empleados ')\n",
    "rows = cursorObj.fetchall()\n",
    "for row in rows:\n",
    "    print(row)\n",
    "\n",
    "# Actualizar una entrada de la tabla\n",
    "cursorObj.execute('UPDATE empleados SET salario = 1850 WHERE nombre = \"Juan\"')\n",
    "con.commit()\n",
    "\n",
    "# Seleccionar todo el contenido de la tabla\n",
    "cursorObj.execute('SELECT * FROM empleados ')\n",
    "rows = cursorObj.fetchall()\n",
    "for row in rows:\n",
    "    print(row)\n",
    "\n",
    "# Actualizar una entrada de la tabla\n",
    "cursorObj.execute('DELETE FROM empleados WHERE nombre = \"Pepe\"')\n",
    "con.commit()\n",
    "\n",
    "# Seleccionar todo el contenido de la tabla\n",
    "cursorObj.execute('SELECT * FROM empleados ')\n",
    "rows = cursorObj.fetchall()\n",
    "for row in rows:\n",
    "    print(row)\n",
    " \n",
    "# Seleccionar los campos 'nombre' y 'salario' de los que cumplen la condición\n",
    "cursorObj.execute('SELECT nombre, salario FROM empleados WHERE salario > 1800.0')\n",
    "rows = cursorObj.fetchall()\n",
    "for row in rows:\n",
    "    print(row)        \n",
    "    \n",
    "# Cerrar la conexión con la BBDD    \n",
    "con.close()"
   ]
  }
 ],
 "metadata": {
  "kernelspec": {
   "display_name": "Python 3 (ipykernel)",
   "language": "python",
   "name": "python3"
  },
  "language_info": {
   "codemirror_mode": {
    "name": "ipython",
    "version": 3
   },
   "file_extension": ".py",
   "mimetype": "text/x-python",
   "name": "python",
   "nbconvert_exporter": "python",
   "pygments_lexer": "ipython3",
   "version": "3.11.0"
  }
 },
 "nbformat": 4,
 "nbformat_minor": 2
}
