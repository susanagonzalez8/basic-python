{
 "cells": [
  {
   "cell_type": "code",
   "execution_count": 5,
   "metadata": {},
   "outputs": [],
   "source": [
    "codon2aa = {\"AAA\":\"K\", \"AAC\":\"N\", \"AAG\":\"K\", \"AAU\":\"N\", \n",
    "            \"ACA\":\"T\", \"ACC\":\"T\", \"ACG\":\"T\", \"ACU\":\"T\", \n",
    "            \"AGA\":\"R\", \"AGC\":\"S\", \"AGG\":\"R\", \"AGU\":\"S\", \n",
    "            \"AUA\":\"I\", \"AUC\":\"I\", \"AUG\":\"M\", \"AUU\":\"I\", \n",
    "\n",
    "            \"CAA\":\"Q\", \"CAC\":\"H\", \"CAG\":\"Q\", \"CAU\":\"H\", \n",
    "            \"CCA\":\"P\", \"CCC\":\"P\", \"CCG\":\"P\", \"CCU\":\"P\", \n",
    "            \"CGA\":\"R\", \"CGC\":\"R\", \"CGG\":\"R\", \"CGU\":\"R\", \n",
    "            \"CUA\":\"L\", \"CUC\":\"L\", \"CUG\":\"L\", \"CUU\":\"L\", \n",
    "\n",
    "            \"GAA\":\"E\", \"GAC\":\"D\", \"GAG\":\"E\", \"GAU\":\"D\", \n",
    "            \"GCA\":\"A\", \"GCC\":\"A\", \"GCG\":\"A\", \"GCU\":\"A\", \n",
    "            \"GGA\":\"G\", \"GGC\":\"G\", \"GGG\":\"G\", \"GGU\":\"G\", \n",
    "            \"GUA\":\"V\", \"GUC\":\"V\", \"GUG\":\"V\", \"GUU\":\"V\", \n",
    "\n",
    "            \"UAA\":\"_\", \"UAC\":\"Y\", \"UAG\":\"_\", \"UAU\":\"T\", \n",
    "            \"UCA\":\"S\", \"UCC\":\"S\", \"UCG\":\"S\", \"UCU\":\"S\", \n",
    "            \"UGA\":\"_\", \"UGC\":\"C\", \"UGG\":\"W\", \"UGU\":\"C\", \n",
    "            \"UUA\":\"L\", \"UUC\":\"F\", \"UUG\":\"L\", \"UUU\":\"F\"\n",
    "           }"
   ]
  },
  {
   "cell_type": "code",
   "execution_count": 6,
   "metadata": {},
   "outputs": [
    {
     "data": {
      "text/plain": [
       "'F'"
      ]
     },
     "execution_count": 6,
     "metadata": {},
     "output_type": "execute_result"
    }
   ],
   "source": [
    "codon2aa['UUU']"
   ]
  },
  {
   "cell_type": "code",
   "execution_count": null,
   "metadata": {},
   "outputs": [],
   "source": []
  }
 ],
 "metadata": {
  "kernelspec": {
   "display_name": "Python 3",
   "language": "python",
   "name": "python3"
  },
  "language_info": {
   "codemirror_mode": {
    "name": "ipython",
    "version": 3
   },
   "file_extension": ".py",
   "mimetype": "text/x-python",
   "name": "python",
   "nbconvert_exporter": "python",
   "pygments_lexer": "ipython3",
   "version": "3.6.5"
  }
 },
 "nbformat": 4,
 "nbformat_minor": 2
}
