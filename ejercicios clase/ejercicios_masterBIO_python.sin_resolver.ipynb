{
 "cells": [
  {
   "cell_type": "markdown",
   "metadata": {},
   "source": [
    "# Máster en Bioinformática Aplicada a Medicina Personalizada y Salud \n",
    "# curso 2022-2023"
   ]
  },
  {
   "cell_type": "markdown",
   "metadata": {},
   "source": [
    "# Nombre y apellidos:"
   ]
  },
  {
   "cell_type": "markdown",
   "metadata": {},
   "source": [
    "## Ejercicio 1\n",
    "1. Crear una lista con el nombre de 6 aminoácidos\n",
    "2. Insertar uno más al final\n",
    "3. Pedir el nombre de uno de ellos al usuario y eliminarlo\n",
    "4. Ordenar la lista alfabéticamente\n",
    "5. Imprimir el número de elementos de la lista\n",
    "\n",
    "Imprimir la lista después de cada paso"
   ]
  },
  {
   "cell_type": "code",
   "execution_count": 8,
   "metadata": {},
   "outputs": [
    {
     "name": "stdout",
     "output_type": "stream",
     "text": [
      "['ARG', 'LYS', 'LEU', 'ALA', 'CYS', 'GLY']\n",
      "['ARG', 'LYS', 'LEU', 'ALA', 'CYS', 'GLY', 'PHE']\n",
      "aa a borrar: LYS\n",
      "['ARG', 'LEU', 'ALA', 'CYS', 'GLY', 'PHE']\n",
      "['ALA', 'ARG', 'CYS', 'GLY', 'LEU', 'PHE']\n",
      "6\n"
     ]
    }
   ],
   "source": [
    "lista_aa = [\"ARG\", \"LYS\", \"LEU\", \"ALA\", \"CYS\", \"GLY\"]\n",
    "print(lista_aa)\n",
    "\n",
    "lista_aa.append(\"PHE\")\n",
    "print(lista_aa)\n",
    "\n",
    "aa_usuario = input(\"aa a borrar: \")\n",
    "lista_aa_aux = []\n",
    "for aa in lista_aa:\n",
    "    if aa != aa_usuario:\n",
    "        lista_aa_aux.append(aa)\n",
    "lista_aa = lista_aa_aux\n",
    "print(lista_aa)\n",
    "\n",
    "lista_aa.sort()\n",
    "print(lista_aa)\n",
    "\n",
    "num_elementos = len(lista_aa)\n",
    "print(num_elementos)"
   ]
  },
  {
   "cell_type": "markdown",
   "metadata": {},
   "source": [
    "## Ejercicio 2\n",
    "Ordenar una lista manteniendo una copia de la versión original."
   ]
  },
  {
   "cell_type": "code",
   "execution_count": 13,
   "metadata": {},
   "outputs": [
    {
     "name": "stdout",
     "output_type": "stream",
     "text": [
      "['a', 'o', 'z', 'b']\n",
      "['a', 'b', 'o', 'z']\n"
     ]
    }
   ],
   "source": [
    "# Solución\n",
    "\n",
    "lista_1 = [\"a\", \"o\", \"z\", \"b\"]\n",
    "copia_lista = lista_1.copy()\n",
    "copia_lista.sort()\n",
    "print(lista_1)\n",
    "print(copia_lista)"
   ]
  },
  {
   "cell_type": "markdown",
   "metadata": {},
   "source": [
    "## Ejercicio 3\n",
    "Escribir un programa que pida al usuario números enteros hasta que introduzca un 0. Al finalizar el programa debe mostrar la cantidad de números introducidos."
   ]
  },
  {
   "cell_type": "code",
   "execution_count": 23,
   "metadata": {},
   "outputs": [
    {
     "name": "stdout",
     "output_type": "stream",
     "text": [
      "Introduce un num: 1\n",
      "Introduce un num: 2\n",
      "Introduce un num: 0\n",
      "El número de números es: 2\n"
     ]
    }
   ],
   "source": [
    "# Solución\n",
    "\n",
    "num = -1\n",
    "lista_num = []\n",
    "while num != 0:\n",
    "    num = int(input(\"Introduce un num: \"))\n",
    "    lista_num.append(num)\n",
    "\n",
    "print(\"El número de números es: \" + str(len(lista_num)-1))\n"
   ]
  },
  {
   "cell_type": "markdown",
   "metadata": {},
   "source": [
    "## Ejercicio 4\n",
    "Pedir al usuario una cadena de adn y contar cuántas veces aparece cada una de las bases.\n",
    "Hacer que esto se repita en un bucle infinito que vaya pidiendo distintas cadenas. El programa finalizará si se teclea la palabra fin."
   ]
  },
  {
   "cell_type": "code",
   "execution_count": 27,
   "metadata": {},
   "outputs": [
    {
     "name": "stdout",
     "output_type": "stream",
     "text": [
      "Introduzca una cadena de adn: actg\n",
      "La cantidad de adenina es: 1\n",
      "La cantidad de timina es: 1\n",
      "La cantidad de guanina es: 1\n",
      "La cantidad de citosina es: 1\n",
      "Introduzca una cadena de adn: fin\n",
      "FIN\n"
     ]
    }
   ],
   "source": [
    "# Solución\n",
    "\n",
    "cadena_adn = input(\"Introduzca una cadena de adn: \")\n",
    "\n",
    "while cadena_adn != \"fin\": \n",
    "    count_a = cadena_adn.count(\"a\")\n",
    "    count_t = cadena_adn.count(\"t\")\n",
    "    count_g = cadena_adn.count(\"g\")\n",
    "    count_c = cadena_adn.count(\"c\")\n",
    "    print(\"La cantidad de adenina es: \" + str(count_a))\n",
    "    print(\"La cantidad de timina es: \" + str(count_t))\n",
    "    print(\"La cantidad de guanina es: \" + str(count_g))\n",
    "    print(\"La cantidad de citosina es: \" + str(count_c))\n",
    "    cadena_adn = input(\"Introduzca una cadena de adn: \")\n",
    "\n",
    "print(\"FIN\")\n",
    "    "
   ]
  },
  {
   "cell_type": "markdown",
   "metadata": {},
   "source": [
    "## Ejercicio 5\n",
    "Mostrar por pantalla las tablas de multiplicar del 1 al 9. \n",
    "Deberá aparecer algo como:\n",
    "\n",
    "\t1*1 es 1\n",
    "\t1*2 es 2\n",
    "\t1*3 es 3\n",
    "          …"
   ]
  },
  {
   "cell_type": "code",
   "execution_count": 68,
   "metadata": {},
   "outputs": [
    {
     "name": "stdout",
     "output_type": "stream",
     "text": [
      "Tabla de multiplicar del 1:\n",
      "1 * 1 = 1\n",
      "1 * 2 = 2\n",
      "1 * 3 = 3\n",
      "1 * 4 = 4\n",
      "1 * 5 = 5\n",
      "1 * 6 = 6\n",
      "1 * 7 = 7\n",
      "1 * 8 = 8\n",
      "1 * 9 = 9\n",
      "1 * 10 = 10\n",
      "\n",
      "Tabla de multiplicar del 2:\n",
      "2 * 1 = 2\n",
      "2 * 2 = 4\n",
      "2 * 3 = 6\n",
      "2 * 4 = 8\n",
      "2 * 5 = 10\n",
      "2 * 6 = 12\n",
      "2 * 7 = 14\n",
      "2 * 8 = 16\n",
      "2 * 9 = 18\n",
      "2 * 10 = 20\n",
      "\n",
      "Tabla de multiplicar del 3:\n",
      "3 * 1 = 3\n",
      "3 * 2 = 6\n",
      "3 * 3 = 9\n",
      "3 * 4 = 12\n",
      "3 * 5 = 15\n",
      "3 * 6 = 18\n",
      "3 * 7 = 21\n",
      "3 * 8 = 24\n",
      "3 * 9 = 27\n",
      "3 * 10 = 30\n",
      "\n",
      "Tabla de multiplicar del 4:\n",
      "4 * 1 = 4\n",
      "4 * 2 = 8\n",
      "4 * 3 = 12\n",
      "4 * 4 = 16\n",
      "4 * 5 = 20\n",
      "4 * 6 = 24\n",
      "4 * 7 = 28\n",
      "4 * 8 = 32\n",
      "4 * 9 = 36\n",
      "4 * 10 = 40\n",
      "\n",
      "Tabla de multiplicar del 5:\n",
      "5 * 1 = 5\n",
      "5 * 2 = 10\n",
      "5 * 3 = 15\n",
      "5 * 4 = 20\n",
      "5 * 5 = 25\n",
      "5 * 6 = 30\n",
      "5 * 7 = 35\n",
      "5 * 8 = 40\n",
      "5 * 9 = 45\n",
      "5 * 10 = 50\n",
      "\n",
      "Tabla de multiplicar del 6:\n",
      "6 * 1 = 6\n",
      "6 * 2 = 12\n",
      "6 * 3 = 18\n",
      "6 * 4 = 24\n",
      "6 * 5 = 30\n",
      "6 * 6 = 36\n",
      "6 * 7 = 42\n",
      "6 * 8 = 48\n",
      "6 * 9 = 54\n",
      "6 * 10 = 60\n",
      "\n",
      "Tabla de multiplicar del 7:\n",
      "7 * 1 = 7\n",
      "7 * 2 = 14\n",
      "7 * 3 = 21\n",
      "7 * 4 = 28\n",
      "7 * 5 = 35\n",
      "7 * 6 = 42\n",
      "7 * 7 = 49\n",
      "7 * 8 = 56\n",
      "7 * 9 = 63\n",
      "7 * 10 = 70\n",
      "\n",
      "Tabla de multiplicar del 8:\n",
      "8 * 1 = 8\n",
      "8 * 2 = 16\n",
      "8 * 3 = 24\n",
      "8 * 4 = 32\n",
      "8 * 5 = 40\n",
      "8 * 6 = 48\n",
      "8 * 7 = 56\n",
      "8 * 8 = 64\n",
      "8 * 9 = 72\n",
      "8 * 10 = 80\n",
      "\n",
      "Tabla de multiplicar del 9:\n",
      "9 * 1 = 9\n",
      "9 * 2 = 18\n",
      "9 * 3 = 27\n",
      "9 * 4 = 36\n",
      "9 * 5 = 45\n",
      "9 * 6 = 54\n",
      "9 * 7 = 63\n",
      "9 * 8 = 72\n",
      "9 * 9 = 81\n",
      "9 * 10 = 90\n",
      "\n"
     ]
    }
   ],
   "source": [
    "# Solución\n",
    "\n",
    "tabla_desde = 1 \n",
    "tabla_hasta = 9 \n",
    "desde = 1 \n",
    "hasta = 10\n",
    "\n",
    "for tabla in range(tabla_desde, tabla_hasta +1):\n",
    "    print(f\"Tabla de multiplicar del {tabla}:\") \n",
    "    for numero in range(desde, hasta + 1):\n",
    "        print(f\"{tabla} * {numero} = {tabla * numero}\")\n",
    "    print() #línea en blanco al final de cada tabla\n",
    "\n",
    "\n"
   ]
  },
  {
   "cell_type": "markdown",
   "metadata": {},
   "source": [
    "## Ejercicio 6\n",
    "1. Crear un diccionario con el nombre de un animal como clave, y su nombre en latín como valor.\n",
    "2. Todos los datos se irán pidiendo al usuario por pantalla.\n",
    "3. Cada vez que se introduzcan los datos de un animal se imprimirán todos los datos del diccionario.\n",
    "4. Si un animal ya se ha introducido se le dirá al usuario."
   ]
  },
  {
   "cell_type": "code",
   "execution_count": 73,
   "metadata": {},
   "outputs": [
    {
     "name": "stdout",
     "output_type": "stream",
     "text": [
      "Introduzca un animal y su nombre en latin separado por dos puntos: gato:gatito\n"
     ]
    }
   ],
   "source": [
    "# Solución\n",
    "\n",
    "dic_animales = {}\n",
    "animal_usuario = input(\"Introduzca un animal y su nombre en latin separado por dos puntos: \")\n",
    "\n",
    "for animal in dic_animales:\n",
    "    animal_usuario = input(\"Introduzca un animal y su nombre en latin separado por dos puntos: \")\n",
    "    if animal != animal_usuario:\n",
    "        print (dic_animales.append(animal))"
   ]
  },
  {
   "cell_type": "markdown",
   "metadata": {},
   "source": [
    "## Ejercicio 7\n",
    "1. Crear un diccionario con el nombre de las 4 bases nitrogenadas del adn como clave y como valor  otro diccionario con dos elementos: la primera clave es ‘abreviatura’ y la segunda ‘tipo’ (indicando si es púrica o pirimídica).\n",
    "2. Acceder al diccionario para imprimir las abreviaturas.\n",
    "3. Insertar el uracilo. \n",
    "4. Volver a acceder al diccionario para imprimir las abreviaturas.\n",
    "5. Imprimir los nombres de todos las bases, abreviatura y tipo con algún tipo de formato"
   ]
  },
  {
   "cell_type": "code",
   "execution_count": null,
   "metadata": {},
   "outputs": [],
   "source": [
    "# Solución"
   ]
  },
  {
   "cell_type": "markdown",
   "metadata": {},
   "source": [
    "## Ejercicio 8\n",
    "Realizar un programa que pida al usuario el nombre de un fichero, lo abra, cuente cuántas palabras de cada tipo existen y lo muestre por pantalla."
   ]
  },
  {
   "cell_type": "code",
   "execution_count": null,
   "metadata": {},
   "outputs": [],
   "source": [
    "# Solución"
   ]
  },
  {
   "cell_type": "markdown",
   "metadata": {},
   "source": [
    "## Ejercicio 9\n",
    "Abrir un fichero de genbank con datos de adn.\n",
    "\n",
    "Contar cuántas veces aparece cada una de las bases en la cadena de DNA.\n",
    "\n",
    "Usando un diccionario que tiene como clave los codones y como valor el  aminoácido correspondiente, convertir todo el DNA en aminoácidos y guardarlo en un fichero llamado amino.txt. \n",
    "\n",
    "Contar cuántos aminoácidos de cada tipo hay.\n",
    "\n",
    "Por pantalla solicitar al usuario un porcentaje y mostrar cuáles son los aminoácidos por encima de ese porcentaje."
   ]
  },
  {
   "cell_type": "code",
   "execution_count": null,
   "metadata": {},
   "outputs": [],
   "source": [
    "# Solución"
   ]
  },
  {
   "cell_type": "markdown",
   "metadata": {},
   "source": [
    "## Ejercicio 10\n",
    "Escribir un programa que pida al usuario el número del que se quiere calcular el factorial:\n",
    "\t\n",
    "    a) Definir una función que calcule el factorial del número. \n",
    "    b) Definir una función que calcule el factorial del número de manera recursiva. "
   ]
  },
  {
   "cell_type": "code",
   "execution_count": null,
   "metadata": {},
   "outputs": [],
   "source": [
    "# Solución a"
   ]
  },
  {
   "cell_type": "code",
   "execution_count": null,
   "metadata": {},
   "outputs": [],
   "source": [
    "# Solución b"
   ]
  },
  {
   "cell_type": "markdown",
   "metadata": {},
   "source": [
    "## Ejercicio 11\n",
    "Definir una función que convierta codones en aminoácidos."
   ]
  },
  {
   "cell_type": "code",
   "execution_count": null,
   "metadata": {},
   "outputs": [],
   "source": [
    "# Solución"
   ]
  },
  {
   "cell_type": "markdown",
   "metadata": {},
   "source": [
    "## Ejercicio 12\n",
    "Definir una función que calcule la media de una lista de valores numéricos."
   ]
  },
  {
   "cell_type": "code",
   "execution_count": null,
   "metadata": {},
   "outputs": [],
   "source": [
    "# Solución"
   ]
  },
  {
   "cell_type": "markdown",
   "metadata": {},
   "source": [
    "## Ejercicio 13\n",
    "Definir una función que multiplique dos matrices de 4*4\n",
    "\n",
    "Redefinir la función para que pueda multiplicar matrices de cualquier tamaño\n",
    "\n",
    "Hacer un programa que pida al usuario el tamaño de las matrices a multiplicar, recoja por teclado los datos de las dos matrices y las multiplique\n",
    "\n",
    "Hacer un programa que pida al usuario el nombre de dos ficheros donde se encuentran guardadas sendas matrices, las lea y las multiplique guardando el resultado en un fichero cuyo nombre se ha pedido al usuario"
   ]
  },
  {
   "cell_type": "code",
   "execution_count": null,
   "metadata": {},
   "outputs": [],
   "source": [
    "# Solución"
   ]
  },
  {
   "cell_type": "markdown",
   "metadata": {},
   "source": [
    "## Ejercicio 14\n",
    "Crear una función que reciba una cadena de ADN y la convierta en una de ARN."
   ]
  },
  {
   "cell_type": "code",
   "execution_count": null,
   "metadata": {},
   "outputs": [],
   "source": [
    "# Solución"
   ]
  },
  {
   "cell_type": "markdown",
   "metadata": {},
   "source": [
    "## Ejercicio 15\n",
    "Para el siguiente código:\n",
    "\n",
    "\tre.match(‘(.*)(cat)(.*)', ‘the cat in the hat’)\n",
    "\t\t\n",
    "Determinar qué se identifica en cada uno de los grupos.\n",
    "\n",
    "Hacer lo mismo con:\n",
    "\n",
    "\tre.match(‘(.*)(at)(.*)', ‘the cat in the hat’)\n"
   ]
  },
  {
   "cell_type": "code",
   "execution_count": null,
   "metadata": {},
   "outputs": [],
   "source": [
    "# Solución"
   ]
  },
  {
   "cell_type": "markdown",
   "metadata": {},
   "source": [
    "## Ejercicio 16\n",
    "En PERL los nombres de variable se forman igual que en Python pero van precedidos del símbolo $.\n",
    "\n",
    "Crear un programa que pida al usuario una palabra y diga si es una variable legal de PERL\n"
   ]
  },
  {
   "cell_type": "code",
   "execution_count": null,
   "metadata": {},
   "outputs": [],
   "source": [
    "# Solución"
   ]
  },
  {
   "cell_type": "markdown",
   "metadata": {},
   "source": [
    "## Ejercicio 17\n",
    "En Python los números en punto flotante pueden aparecer con los siguientes formatos:\n",
    "\n",
    "    1.23\n",
    "    1.\n",
    "    3.14e-10\n",
    "    4E21\n",
    "    4.0e+45\n",
    "\n",
    "Crear un programa que pida al usuario un número y diga si es un número en punto flotante"
   ]
  },
  {
   "cell_type": "code",
   "execution_count": null,
   "metadata": {},
   "outputs": [],
   "source": [
    "# Solución"
   ]
  },
  {
   "cell_type": "markdown",
   "metadata": {},
   "source": [
    "## Ejercicio 18\n",
    "Crear un programa que abra el fichero GenBank.gb y haga lo siguiente:\n",
    "1. Guarde en un fichero toda la información que no se corresponda con los datos de una secuencia de ADN.\n",
    "2. Guarde en otro fichero los datos de secuencia.\n",
    "3. Analice cada línea de secuencia e indique en qué líneas aparece tca y en qué posición dentro de la línea.\n"
   ]
  },
  {
   "cell_type": "code",
   "execution_count": null,
   "metadata": {},
   "outputs": [],
   "source": [
    "# Solución"
   ]
  },
  {
   "cell_type": "markdown",
   "metadata": {},
   "source": [
    "## Ejercicio 19\n",
    "Crear un programa pida al usuario el nombre de un directorio, busque en este directorio todos los ficheros de tipo GenBank (extension.gb), los abra y diga de qué organismo contiene datos.\n",
    "\n",
    "Mejorarlo para que mire también en los subdirectorios del directorio dado."
   ]
  },
  {
   "cell_type": "code",
   "execution_count": null,
   "metadata": {},
   "outputs": [],
   "source": [
    "# Solución"
   ]
  },
  {
   "cell_type": "markdown",
   "metadata": {},
   "source": [
    "## Ejercicio 20\n",
    "Queremos almacenar los artículos que leemos en una base de datos (BD), pero no nos gusta ninguna de las disponibles, por lo tanto vamos a construirla nosotros mismos.\n",
    "\n",
    "La BD será una lista de diccionarios. Cada diccionario consta de 5 campos: Título del artículo, autores, revista, fecha y el nombre del fichero donde guardamos un resumen del artículo.\n",
    "\n",
    "El programa nos permitirá hacer una serie de cosas, elegidas por un menú:\n",
    "\t1. Introducir un nuevo elemento, esto implicará salvarlo en un archivo.\n",
    "\t2. Listar todos los artículos, especificando los 4 primeros campos.\n",
    "\t3. Buscar si existe un artículo dando una palabra clave del título.\n",
    "\t4. Buscar si existe un artículo dando el nombre de un autor\n",
    "\t5. Listar todos los artículos de una determinada revista.\n",
    "    \n",
    "Cada vez que se arranca el programa deberán recuperarse los datos almacenados previamente.\n"
   ]
  },
  {
   "cell_type": "code",
   "execution_count": null,
   "metadata": {},
   "outputs": [],
   "source": [
    "# Solución"
   ]
  }
 ],
 "metadata": {
  "kernelspec": {
   "display_name": "Python 3 (ipykernel)",
   "language": "python",
   "name": "python3"
  },
  "language_info": {
   "codemirror_mode": {
    "name": "ipython",
    "version": 3
   },
   "file_extension": ".py",
   "mimetype": "text/x-python",
   "name": "python",
   "nbconvert_exporter": "python",
   "pygments_lexer": "ipython3",
   "version": "3.11.0"
  }
 },
 "nbformat": 4,
 "nbformat_minor": 2
}
