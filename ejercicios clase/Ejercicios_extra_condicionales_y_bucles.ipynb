{
 "cells": [
  {
   "cell_type": "markdown",
   "metadata": {},
   "source": [
    "# Ejercicios extra condicionales y bucles"
   ]
  },
  {
   "cell_type": "markdown",
   "metadata": {},
   "source": [
    "## Ejercicio 1\n",
    "Crear un programa que lea dos números y que muestre por pantalla el mayor de los dos."
   ]
  },
  {
   "cell_type": "code",
   "execution_count": 1,
   "metadata": {},
   "outputs": [],
   "source": [
    "# Solución"
   ]
  },
  {
   "cell_type": "markdown",
   "metadata": {},
   "source": [
    "## Ejercicio 2\n",
    "Escribir un programa que lea números enteros indefinidamente hasta que llegue el número 0."
   ]
  },
  {
   "cell_type": "code",
   "execution_count": 2,
   "metadata": {},
   "outputs": [],
   "source": [
    "# Solución"
   ]
  },
  {
   "cell_type": "markdown",
   "metadata": {},
   "source": [
    "## Ejercicio 3\n",
    "Escribir un programa que lea una serie de números por teclado (hasta que llegue el número 0) e indique cuál es el mayor."
   ]
  },
  {
   "cell_type": "code",
   "execution_count": 3,
   "metadata": {},
   "outputs": [],
   "source": [
    "# Solución"
   ]
  },
  {
   "cell_type": "markdown",
   "metadata": {},
   "source": [
    "## Ejercicio 4\n",
    "Crear un programa para calcular los salarios semanales de unos empleados a los que se les paga 15 euros por hora si éstas no superan las 35 horas. Cada hora por encima de 35 se considerará extra y se paga a 22 €. El programa pide las horas del trabajador y devuelve el salario que se le debe pagar. Además el programa debe preguntar si deseamos calcular otro salario, si es así el programa se vuelve a repetir."
   ]
  },
  {
   "cell_type": "code",
   "execution_count": null,
   "metadata": {},
   "outputs": [],
   "source": [
    "# Solución"
   ]
  },
  {
   "cell_type": "markdown",
   "metadata": {},
   "source": [
    "## Ejercicio 5\n",
    "Crear un programa que lea cantidades y precios y al final indique el total de la factura. Primero se pregunta: “Introduzca la cantidad vendida” tras lo cual el usuario introducirá un número entero positivo. Después se pregunta: “Introduzca el precio” que será un número decimal positivo. La lectura termina cuando en la cantidad se introduzca un cero. Si es así, se escribirá el total."
   ]
  },
  {
   "cell_type": "code",
   "execution_count": null,
   "metadata": {},
   "outputs": [],
   "source": [
    "# Solución"
   ]
  },
  {
   "cell_type": "markdown",
   "metadata": {},
   "source": [
    "## Ejercicio 6\n",
    "Escriba un programa que pida al usuario dos palabras, y que indique cuál de ellas es la más larga y por cuántas letras lo es."
   ]
  },
  {
   "cell_type": "code",
   "execution_count": 4,
   "metadata": {},
   "outputs": [],
   "source": [
    "# Solución"
   ]
  },
  {
   "cell_type": "markdown",
   "metadata": {},
   "source": [
    "## Ejercicio 7\n",
    "Crear un programa que muestre un menú como este: 1) Salir 2) Saludar en castellano 3) Saludar en inglés 4) Saludar en francés. Tras mostrar el menú, el programa debe leer un número del 1 al 4. Si se elige 1, el programa acaba. Si no, el programa debe mostrar por pantalla un mensaje de saludo en el idioma elegido. Tras el saludo, el programa volverá a mostrar el menú y así sucesivamente."
   ]
  },
  {
   "cell_type": "code",
   "execution_count": null,
   "metadata": {},
   "outputs": [],
   "source": [
    "# Solución"
   ]
  },
  {
   "cell_type": "markdown",
   "metadata": {},
   "source": [
    "## Ejercicio 8\n",
    "Crear un programa que defina la lista siguiente:\n",
    "\n",
    "num=[0,1,1,1,3,4,3,2,1,3,21,1,1,1,1,23,4,4,6,7]\n",
    "\n",
    "y pida al usuario un número y cuente, usando un bucle y un if (sin usar el método count u otra función similar), cuántas veces aparece ese número en la lista siguiente. \n",
    "\n",
    "Por pantalla (por ejemplo, si el número es el 4) saldrá: El número 4 aparece 3 veces."
   ]
  },
  {
   "cell_type": "code",
   "execution_count": null,
   "metadata": {},
   "outputs": [],
   "source": [
    "# Solución"
   ]
  }
 ],
 "metadata": {
  "kernelspec": {
   "display_name": "Python 3",
   "language": "python",
   "name": "python3"
  },
  "language_info": {
   "codemirror_mode": {
    "name": "ipython",
    "version": 3
   },
   "file_extension": ".py",
   "mimetype": "text/x-python",
   "name": "python",
   "nbconvert_exporter": "python",
   "pygments_lexer": "ipython3",
   "version": "3.6.5"
  }
 },
 "nbformat": 4,
 "nbformat_minor": 2
}
