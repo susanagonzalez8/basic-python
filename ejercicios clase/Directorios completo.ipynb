{
 "cells": [
  {
   "cell_type": "markdown",
   "metadata": {},
   "source": [
    "# Ejercicios Módulo os"
   ]
  },
  {
   "cell_type": "markdown",
   "metadata": {},
   "source": [
    "## Ejercicio 1"
   ]
  },
  {
   "cell_type": "markdown",
   "metadata": {},
   "source": [
    "Crear un programa que pida al usuario la ruta de una carpeta (comprobar si la carpeta que introduce el usuario existe) y muestre por pantalla todos las carpetas y ficheros que contiene (mostrar por pantalla si es un carpeta o un fichero)."
   ]
  },
  {
   "cell_type": "code",
   "execution_count": null,
   "metadata": {},
   "outputs": [],
   "source": [
    "import os\n",
    "\n",
    "# pedir al usuario que introduza una ruta de una carpeta\n",
    "ruta = input(\"Introduzca la ruta de una carpeta: \")\n",
    "\n",
    "# si la ruta existe y es una carpeta\n",
    "if os.path.exists(ruta) and os.path.isdir(ruta) :\n",
    "    # obtener el listado de todos los ficheros y carpetas contenidos en dicha carpeta\n",
    "    lista_directorios = os.listdir(ruta)\n",
    "    \n",
    "    # para cada directorio dentro de la lista\n",
    "    for directorio in lista_directorios:\n",
    "        # si es un fichero\n",
    "        #if os.path.isfile(directorio) :  \n",
    "        if os.path.isfile(ruta + \"/\" + directorio) :\n",
    "            # mostrar por pantalla el nombre del fichero indicando que es un fichero\n",
    "            print(ruta + \"/\" + directorio, \"es un FICHERO\")\n",
    "        # sino, si es una carpeta\n",
    "        #elif os.path.isdir(directorio) :\n",
    "        elif os.path.isdir(ruta + \"/\" + directorio) :\n",
    "            # mostrar por pantalla el nombre de la carpeta indicando que es una carpeta\n",
    "            print(ruta + \"/\" + directorio, \"es un CARPETA\")\n",
    "\n",
    "# sino\n",
    "else :\n",
    "    # informar del error y finalizar el programa\n",
    "    print(\"ERROR: la ruta\", ruta,\"no existe o no es una carpeta\")"
   ]
  },
  {
   "cell_type": "markdown",
   "metadata": {},
   "source": [
    "## Ejercicio 2"
   ]
  },
  {
   "cell_type": "markdown",
   "metadata": {},
   "source": [
    "Crear un programa que pida al usuario la ruta de una carpeta y muestre por pantalla todas las carpetas y ficheros que contiene de forma recursiva (si una carpeta contiene a su vez una carpeta se deben mostrar todas las carpetas y ficheros dentro de esta segunda carpeta)."
   ]
  },
  {
   "cell_type": "code",
   "execution_count": null,
   "metadata": {},
   "outputs": [],
   "source": [
    "import os\n",
    "\n",
    "def listar_directorios(ruta) :\n",
    "    # si la ruta existe y es una carpeta\n",
    "    if os.path.exists(ruta) and os.path.isdir(ruta) :\n",
    "        # obtener el listado de todos los ficheros y carpetas contenidos en dicha carpeta\n",
    "        lista_directorios = os.listdir(ruta)\n",
    "\n",
    "        # para cada directorio dentro de la lista\n",
    "        for directorio in lista_directorios:\n",
    "            # si es un fichero\n",
    "            #if os.path.isfile(directorio) :  \n",
    "            if os.path.isfile(ruta + r'/' + directorio) :\n",
    "                # mostrar por pantalla el nombre del fichero indicando que es un fichero\n",
    "                print(ruta + \"/\" + directorio, \"es un FICHERO\")\n",
    "            # sino, si es una carpeta\n",
    "            #elif os.path.isdir(directorio) :\n",
    "            elif os.path.isdir(ruta + \"/\" + directorio) :\n",
    "                # mostrar por pantalla el nombre de la carpeta indicando que es una carpeta\n",
    "                print(ruta + \"/\" + directorio, \"es un CARPETA\")\n",
    "                listar_directorios(ruta + \"/\" + directorio)\n",
    "    # sino\n",
    "    else :\n",
    "        # informar del error y finalizar el programa\n",
    "        print(\"ERROR: la ruta\", ruta,\"no existe o no es una carpeta\")    \n",
    "        \n",
    "        \n",
    "# pedir al usuario que introduza una ruta de una carpeta\n",
    "ruta = input(\"Introduzca la ruta de una carpeta: \")\n",
    "listar_directorios(ruta)"
   ]
  }
 ],
 "metadata": {
  "kernelspec": {
   "display_name": "Python 3 (ipykernel)",
   "language": "python",
   "name": "python3"
  },
  "language_info": {
   "codemirror_mode": {
    "name": "ipython",
    "version": 3
   },
   "file_extension": ".py",
   "mimetype": "text/x-python",
   "name": "python",
   "nbconvert_exporter": "python",
   "pygments_lexer": "ipython3",
   "version": "3.11.1"
  }
 },
 "nbformat": 4,
 "nbformat_minor": 2
}
