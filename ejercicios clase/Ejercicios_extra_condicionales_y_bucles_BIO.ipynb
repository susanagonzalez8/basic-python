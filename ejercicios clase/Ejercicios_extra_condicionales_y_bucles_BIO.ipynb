{
 "cells": [
  {
   "cell_type": "markdown",
   "metadata": {},
   "source": [
    "# Ejercicios condicionales y bucles (ejemplos biología)"
   ]
  },
  {
   "cell_type": "markdown",
   "metadata": {},
   "source": [
    "## Ejercicio 1\n",
    "En este número de la revista [NIH MedlinePlus](https://magazine.medlineplus.gov/pdf/MLP_Summer2012web.pdf), en la página 6 podemos encontrar varias tablas que resumen la evaluación de diferentes valores y tipos de colesterol.\n",
    "\n",
    "Escribe un programa en Python que pida al usuario su nivel de colesterol LDL (malo), en mg/dL, e imprima en pantalla la categoría que corresponde al valor introducido según la tabla correspondiente. Si el usuario introduce un valor negativo, el programa mostrará un mensaje de error."
   ]
  },
  {
   "cell_type": "code",
   "execution_count": 2,
   "metadata": {},
   "outputs": [
    {
     "name": "stdout",
     "output_type": "stream",
     "text": [
      "Introduce tu nivel de colesterol LDL (mg/dL): 85\n",
      "Tu nivel es óptimo\n"
     ]
    }
   ],
   "source": [
    "# Solución\n",
    "\n",
    "#niveles de colesterol\n",
    "# < 0: desconocido\n",
    "# 0-100: optimp\n",
    "# 101-130: casi optimo\n",
    "#131-160: limite alto\n",
    "#161-190: alto\n",
    "# > 190: muy alto\n",
    "\n",
    "nivel_coresterol = int(input(\"Introduce tu nivel de colesterol LDL (mg/dL): \"))\n",
    "\n",
    "if (nivel_coresterol < 0):\n",
    "    categoria = \"Desconocido\"\n",
    "elif (nivel_coresterol < 100):\n",
    "    categoria = \"óptimo\"\n",
    "elif (nivel_coresterol < 130):\n",
    "    categoria = \"casi óptimo/superior al óptimo\"\n",
    "elif (nivel_coresterol < 160):\n",
    "    categoria = \"en el límite alto\"\n",
    "elif (nivel_coresterol < 190):\n",
    "    categoria = \"alto\"\n",
    "else:\n",
    "    categoria = \"muy alto\"\n",
    "\n",
    "print(\"Tu nivel es\", categoria)"
   ]
  },
  {
   "cell_type": "markdown",
   "metadata": {},
   "source": [
    "## Ejercicio 2\n",
    "\n",
    "Las analíticas de sangre miden valores de parámetros típicos que pueden ser interpretados por profesionales sanitarios para detectar problemas potenciales. Nos centraremos en los valores de referencia de electrolitos y metabolitos de acuerdo con la siguiente [tabla](https://en.wikipedia.org/wiki/Reference_ranges_for_blood_tests#Other_electrolytes_and_metabolites):\n",
    "\n",
    "Según la tabla, y considerando valores conservadores en los rangos:\n",
    "\n",
    "* Plasma glucose (fasting): su valor debería estar entre 65 y 110 mg/dL.\n",
    "* Full blood glucose (fasting): su valor debería estar entre 60 y 100 mg/dL.\n",
    "* Random glucose: su valor debería estar entre 70 y 140 mg/dL.\n",
    "\n",
    "Escribe un programa en Python que pida 3 valores al usuario (correspondientes a los 3 parámetros anteriores, obtenidos mediante análisis de sangre) e imprima en pantalla para cada uno de los 3 valores si es Bajo, Normal o Alto de acuerdo a los rangos de arriba."
   ]
  },
  {
   "cell_type": "code",
   "execution_count": 7,
   "metadata": {},
   "outputs": [
    {
     "name": "stdout",
     "output_type": "stream",
     "text": [
      "Introduce tu nivel de glucosa en plasma(mg/dL)10\n",
      "Introduce tu nivel de glucosa en sangre (mg/dL)100\n",
      "Introduce tu nivel de glucosa rd (mg/dL)10000\n",
      "Tu nivel de glucosa en plasma es bajo\n",
      "Tu nivel de glucosa en sangre es normal\n",
      "Tu nivel de glucosa rd es alto\n"
     ]
    }
   ],
   "source": [
    "# Solución\n",
    "\n",
    "glucosa_plasma = int(input(\"Introduce tu nivel de glucosa en plasma(mg/dL)\"))\n",
    "glucosa_sangre = int(input(\"Introduce tu nivel de glucosa en sangre (mg/dL)\"))\n",
    "glucosa_rd = int(input(\"Introduce tu nivel de glucosa rd (mg/dL)\"))\n",
    "\n",
    "if (glucosa_plasma < 65):\n",
    "    valorp = \"bajo\"\n",
    "elif (glucosa_plasma <= 110):\n",
    "    valorp = \"normal\"\n",
    "else:\n",
    "    valorp = \"alto\"\n",
    "print(\"Tu nivel de glucosa en plasma es\", valorp)\n",
    "\n",
    "\n",
    "if (glucosa_sangre < 60):\n",
    "    valors = \"bajo\"\n",
    "elif (glucosa_sangre <= 100):\n",
    "    valors = \"normal\"\n",
    "else:\n",
    "    valors = \"alto\"\n",
    "print(\"Tu nivel de glucosa en sangre es\", valors)\n",
    "\n",
    "\n",
    "if (glucosa_rd < 70):\n",
    "    valorr = \"bajo\"\n",
    "elif (glucosa_rd <= 140):\n",
    "    valorr = \"normal\"\n",
    "else:\n",
    "    valorr = \"alto\"\n",
    "print(\"Tu nivel de glucosa rd es\", valorr)"
   ]
  },
  {
   "cell_type": "markdown",
   "metadata": {},
   "source": [
    "## Ejercicio 3\n",
    "\n",
    "En el contexto de un experimento médico, varios pacientes de 4 ciudades diferentes (Madrid, Valencia, Granada y Bilbao) deben ser seleccionados y asignados a 2 grupos diferentes (Grupo A o Grupo B) de acuerdo a lo siguiente:\n",
    "\n",
    "* Los pacientes con edades comprendidas en el intervalo [20, 40] de Madrid o Valencia serán asignados al Grupo A.\n",
    "* Los pacientes con edades comprendidas en el intervalo [41, 60] de Granada o Bilbao serán asignados al Grupo B.\n",
    "* En cualquier otro caso, los pacientes no serán seleccionados para el experimento.\n",
    "\n",
    "Escribe un programa en Python que, dados una edad y una ciudad de origen de un paciente,\n",
    "indique por pantalla el grupo asignado a dicho paciente (Grupo A, Grupo B o no seleccionado)."
   ]
  },
  {
   "cell_type": "code",
   "execution_count": 11,
   "metadata": {},
   "outputs": [
    {
     "name": "stdout",
     "output_type": "stream",
     "text": [
      "Introduzca la edad del paciente: 25\n",
      "Introduzca la ciudad del paciente: madrid\n",
      "grupo A\n"
     ]
    }
   ],
   "source": [
    "# Solución\n",
    "\n",
    "edad = int(input(\"Introduzca la edad del paciente: \"))\n",
    "ciudad = input(\"Introduzca la ciudad del paciente: \")\n",
    "ciudad = ciudad.upper()\n",
    "\n",
    "if (ciudad == \"MADRID\" or ciudad == \"VALENCIA\") and (20 <= edad <= 40):\n",
    "    print(\"grupo A\")\n",
    "elif (ciudad == \"GRANADA\" or ciudad == \"BILBAO\") and (41 <= edad <= 61):\n",
    "    print(\"grupo B\")\n",
    "else: \n",
    "    print(\"no esta seleccionado\")\n",
    "\n",
    "    "
   ]
  },
  {
   "cell_type": "markdown",
   "metadata": {},
   "source": [
    "## Ejercicio 4\n",
    "\n",
    "Los [leucocitos o glóbulos blancos](https://en.wikipedia.org/wiki/White_blood_cell) son las células de nuestro sistema inmunológico encargadas de proteger nuestro cuerpo de infecciones y agentes externos malignos.\n",
    "\n",
    "El número de este tipo de células en sangre (WBC count) es una referencia importante para detectar anomalías o enfermedades. Dicho número se expresa generalmente en unidades de 109/L, y se divide entre diferentes subtipos de células. Podemos ver los diferentes rangos de referencia en la siguiente [tabla](https://en.wikipedia.org/wiki/Reference_ranges_for_blood_tests#White_blood_cells_2) para cada subtipo.\n",
    "\n",
    "Considerando los siguientes rangos de referencia (tomados de un análisis de sangre real de un adulto):\n",
    "\n",
    "* Neutrófilos x10¸s/mm¸s [1, 5 − 7, 7]\n",
    "* Linfocitos x10¸s/mm¸s [1, 1 − 4, 5]\n",
    "* Monocitos x10¸s/mm¸s [0, 1 − 0, 95]\n",
    "* Eosinófilos x10¸s/mm¸s [0, 02 − 0, 5]\n",
    "* Basófilos x10¸s/mm¸s [0, 01 − 0, 2]\n",
    "\n",
    "Escribe un programa que pida al usuario el subtipo de célula y el valor de medida, y que imprima si el valor introducido para dicho subtipo es normal, bajo o alto. Por ejemplo:\n",
    "\n",
    "    Introduzca tipo de WBC: Basófilos\n",
    "    Introduzca valor de medida: 0.002\n",
    "    Nivel de Basófilos: bajo"
   ]
  },
  {
   "cell_type": "code",
   "execution_count": null,
   "metadata": {},
   "outputs": [],
   "source": [
    "# Solución"
   ]
  },
  {
   "cell_type": "markdown",
   "metadata": {},
   "source": [
    "## Ejercicio 5"
   ]
  },
  {
   "cell_type": "markdown",
   "metadata": {},
   "source": [
    "Estamos estudiando una población de bacterias que se dividen cada 20 minutos y que al inicio del experimento se reduce a 3 bacterias. Escribe un programa en Python que pida al usuario el intervalo de tiempo transcurrido desde el inicio del experimento en horas y minutos, y que calcule e imprima por pantalla el tamaño de la población de bacterias una vez transcurrido ese intervalo de tiempo. Si el usuario introduce algún valor negativo para las horas o los minutos, el programa debe solicitar ese dato de nuevo."
   ]
  },
  {
   "cell_type": "code",
   "execution_count": 17,
   "metadata": {},
   "outputs": [
    {
     "name": "stdout",
     "output_type": "stream",
     "text": [
      "Horas transcurridas: 2\n",
      "Minutos transcurridos: 30\n",
      "Poblacion es: 6\n",
      "Poblacion es: 12\n",
      "Poblacion es: 24\n",
      "Poblacion es: 48\n",
      "Poblacion es: 96\n",
      "Poblacion es: 192\n",
      "Poblacion es: 384\n"
     ]
    }
   ],
   "source": [
    "# Solución\n",
    "\n",
    "poblacion = 3\n",
    "\n",
    "horas=-1 #para que la variable quede guardada y me vuelva a pedir horas, porque es negativo\n",
    "minutos = -1\n",
    "while (horas < 0 or minutos < 0):\n",
    "    horas = int(input(\"Horas transcurridas: \"))\n",
    "    minutos = int(input(\"Minutos transcurridos: \"))\n",
    "\n",
    "tiempo_total = horas*60 + minutos\n",
    "tiempo_division_min= 20\n",
    "\n",
    "divisiones = tiempo_total//tiempo_division_min\n",
    "#dividiendo con // hace la division entera, te quedas con el cociente \n",
    "\n",
    "for division in range(divisiones):\n",
    "    poblacion_final = poblacion * (2 ** (division + 1))\n",
    "    print(\"Poblacion es:\", poblacion_final)\n"
   ]
  },
  {
   "cell_type": "markdown",
   "metadata": {},
   "source": [
    "## Ejercicio 6"
   ]
  },
  {
   "cell_type": "markdown",
   "metadata": {},
   "source": [
    "Escribe un programa que vaya pidiendo uno a uno números enteros no negativos al usuario, que representan niveles de vitamina D de diferentes sujetos expresados en ng/mL. Si el usuario introduce un valor negativo el programa debe ignorarlo, mostrar un mensaje de error y seguir funcionando con normalidad, solicitando un nuevo valor"
   ]
  },
  {
   "cell_type": "code",
   "execution_count": null,
   "metadata": {},
   "outputs": [],
   "source": [
    "# Solución"
   ]
  },
  {
   "cell_type": "markdown",
   "metadata": {},
   "source": [
    "## Ejercicio 7"
   ]
  },
  {
   "cell_type": "markdown",
   "metadata": {},
   "source": [
    "En un cultivo de laboratorio, el número de bacterias (medido en millones) durante las primeras 100 horas viene dado por:\n",
    "\n",
    "### <center>$25 + t \\cdot e^{(-t/10)}$</center>\n",
    "\n",
    "Donde $t$ está expresado en horas.\n",
    "\n",
    "Escribir un programa en Python que calcule e imprima por pantalla los instantes de tiempo en los que se produce el menor crecimiento y el mayor decrecimiento de la población (dentro de las primeras 100 horas), así como los valores de crecimiento y decrecimiento correspondientes a esos instantes, con un máximo de 5 cifras decimales."
   ]
  },
  {
   "cell_type": "code",
   "execution_count": null,
   "metadata": {},
   "outputs": [],
   "source": [
    "# Solución"
   ]
  },
  {
   "cell_type": "markdown",
   "metadata": {},
   "source": [
    "## Ejercicio 8"
   ]
  },
  {
   "cell_type": "markdown",
   "metadata": {},
   "source": [
    "La dinámica de una determinada población de mamíferos (medida en miles) que habita un parque natural viene dada por el modelo de Ricker:\n",
    "\n",
    "### <center>$X_n = X_{n1} \\cdot e^{r \\cdot (1 \\cdot \\frac{X_{n1}}{K})}, n1$</center>\n",
    "\n",
    "Con parámetro de crecimiento r = 0.4 y capacidad de alojamiento K = 5000.\n",
    "\n",
    "Si la población inicial de mamíferos es x0 = 3500, escribir un programa en Python que calcule e imprima por pantalla el número de períodos de reproducción necesarios para que la población supere los 4995 ejemplares.\n",
    "\n",
    "Además, el programa debe imprimir la media del crecimiento durante los periodos de reproducción calculados, con un máximo de 3 cifras decimales."
   ]
  },
  {
   "cell_type": "code",
   "execution_count": null,
   "metadata": {},
   "outputs": [],
   "source": [
    "# Solución"
   ]
  },
  {
   "cell_type": "markdown",
   "metadata": {},
   "source": [
    "## Ejercicio 9"
   ]
  },
  {
   "cell_type": "markdown",
   "metadata": {},
   "source": [
    "Escribe un programa en Python que imprima por pantalla los factoriales de todos los números entre 0 y n, siendo n un entero positivo proporcionado por el usuario, que debe ser menor o igual que 25. Si el número proporcionado por el usuario no está dentro del rango permitido, el programa debe solicitar el número de nuevo las veces necesarias hasta que el usuario introduzca\n",
    "un número válido.\n",
    "\n",
    "https://es.wikipedia.org/wiki/Factorial\n",
    "\n",
    "Ejemplo de ejecución:\n",
    "\n",
    "    Introduzca número entero entre 1 y 25: 10\n",
    "    factorial de 0 = 1\n",
    "    factorial de 1 = 1\n",
    "    factorial de 2 = 2\n",
    "    factorial de 3 = 6\n",
    "    factorial de 4 = 24\n",
    "    factorial de 5 = 120\n",
    "    factorial de 6 = 720\n",
    "    factorial de 7 = 5040\n",
    "    factorial de 8 = 40320\n",
    "    factorial de 9 = 362880\n",
    "    factorial de 10 = 3628800"
   ]
  },
  {
   "cell_type": "code",
   "execution_count": null,
   "metadata": {},
   "outputs": [],
   "source": [
    "# Solución"
   ]
  },
  {
   "cell_type": "markdown",
   "metadata": {},
   "source": [
    "## Ejercicio 10"
   ]
  },
  {
   "cell_type": "markdown",
   "metadata": {},
   "source": [
    "Escribe un programa en Python que, dados dos números enteros a y b mayores que 100 proporcionados por el usuario, imprima por pantalla cuántos números capicúa se encuentran: \n",
    "\n",
    "* dentro del intervalo [a, b] si a es menor que b \n",
    "* dentro del intervalo [b, a] si a es mayor o igual que b\n",
    "\n",
    "Además, el programa debe imprimir tanto el primero como el último número capicúa hallados en el intervalo.\n",
    "\n",
    "NOTA: No se pueden usar strings para resolver el problema."
   ]
  },
  {
   "cell_type": "code",
   "execution_count": null,
   "metadata": {},
   "outputs": [],
   "source": [
    "# Solución"
   ]
  }
 ],
 "metadata": {
  "kernelspec": {
   "display_name": "Python 3 (ipykernel)",
   "language": "python",
   "name": "python3"
  },
  "language_info": {
   "codemirror_mode": {
    "name": "ipython",
    "version": 3
   },
   "file_extension": ".py",
   "mimetype": "text/x-python",
   "name": "python",
   "nbconvert_exporter": "python",
   "pygments_lexer": "ipython3",
   "version": "3.11.0"
  }
 },
 "nbformat": 4,
 "nbformat_minor": 2
}
