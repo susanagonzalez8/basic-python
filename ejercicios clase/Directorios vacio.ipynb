{
 "cells": [
  {
   "cell_type": "markdown",
   "metadata": {},
   "source": [
    "# Ejercicios Módulo os"
   ]
  },
  {
   "cell_type": "markdown",
   "metadata": {},
   "source": [
    "## Ejercico 1"
   ]
  },
  {
   "cell_type": "markdown",
   "metadata": {},
   "source": [
    "Crear un programa que pida al usuario la ruta de un directorio (comprobar si el directorio que introduce el usuario existe) y muestre por pantalla todos los directorios y ficheros que contiene (mostrar por pantalla si es un directorio o un fichero)."
   ]
  },
  {
   "cell_type": "code",
   "execution_count": 30,
   "metadata": {},
   "outputs": [
    {
     "name": "stdout",
     "output_type": "stream",
     "text": [
      "Introduzca una ruta: /home/vant/Escritorio/Genetica\n",
      "La ruta existe\n",
      "La ruta es un directorio\n",
      "/home/vant/Escritorio/Genetica/Caso problema 3.xlsx es un fichero\n",
      "/home/vant/Escritorio/Genetica/genetica dia 1.odt es un fichero\n",
      "/home/vant/Escritorio/Genetica/Tema 5. Síndromes Genéticos III.pdf es un fichero\n",
      "/home/vant/Escritorio/Genetica/Tema 2. Diagnóstico Molecular en Genética Clínica.pdf es un fichero\n",
      "/home/vant/Escritorio/Genetica/Caso problema 1.xlsx es un fichero\n",
      "/home/vant/Escritorio/Genetica/Glosario de Términos Genéticos.pdf es un fichero\n",
      "/home/vant/Escritorio/Genetica/Resumenes es una carpeta\n",
      "/home/vant/Escritorio/Genetica/Tema 7. Asesoramiento Genético.pdf es un fichero\n",
      "/home/vant/Escritorio/Genetica/Tema 3. Síndromes Genéticos I.pdf es un fichero\n",
      "/home/vant/Escritorio/Genetica/Tema 1. Genética Mendeliana.pdf es un fichero\n",
      "/home/vant/Escritorio/Genetica/Caso problema 2.xlsx es un fichero\n",
      "/home/vant/Escritorio/Genetica/Programa Genetica Clínica.pdf es un fichero\n",
      "/home/vant/Escritorio/Genetica/ultimo dia.odt es un fichero\n",
      "/home/vant/Escritorio/Genetica/Examen genética con respuestas.pdf es un fichero\n",
      "/home/vant/Escritorio/Genetica/ejercicios genetica.odt es un fichero\n",
      "/home/vant/Escritorio/Genetica/Tema 6. Farmacogenómica.pdf es un fichero\n",
      "/home/vant/Escritorio/Genetica/Examen genética sin respuestas.pdf es un fichero\n",
      "/home/vant/Escritorio/Genetica/Tema 4. Síndromes Genéticos II.pdf es un fichero\n"
     ]
    }
   ],
   "source": [
    "import os\n",
    "ruta = input (\"Introduzca una ruta: \")\n",
    "\n",
    "# comprobar si la ruta existe\n",
    "\n",
    "if os.path.exists(ruta) :\n",
    "    print(\"La ruta existe\")\n",
    "else :\n",
    "    print(\"Ruta inexistente\")\n",
    "\n",
    "# mostrar si es un directorio o un fichero\n",
    "if os.path.isfile(ruta):\n",
    "    print(\"La ruta es un fichero\")\n",
    "else:\n",
    "    print(\"La ruta es un directorio\")\n",
    "\n",
    "# listado de todos los ficheros y carpetas contenidas en la carpeta\n",
    "lista_directorios = os.listdir(ruta)\n",
    "\n",
    "#para cada directorio dentro de la lista\n",
    "for directorio in lista_directorios:\n",
    "    #si es un fichero\n",
    "    if os.path.isfile(ruta + \"/\" + directorio):\n",
    "        print(ruta + \"/\" + directorio, \"es un fichero\")\n",
    "    #si es una carpeta (directorio)    \n",
    "    elif os.path.isdir(ruta + \"/\" + directorio):\n",
    "        print(ruta + \"/\" + directorio, \"es una carpeta\")\n",
    "    else:\n",
    "        print(\"ERROR: la ruta\", ruta, \"no existe o no es una carpeta\")\n",
    "#la \"/\" se pone porqe normalmente al escribir el directorio el usuario no pone la ultima barra\n"
   ]
  },
  {
   "cell_type": "markdown",
   "metadata": {},
   "source": [
    "## Ejercico 2"
   ]
  },
  {
   "cell_type": "markdown",
   "metadata": {},
   "source": [
    "Crear un programa que pida al usuario la ruta de un directorio y muestre por pantalla todos los directorios y ficheros que contiene de forma recursiva (si un directorio contiene a su vez un directorio se deben mostrar todos los directorios y ficheros dentro de este segundo directorio)."
   ]
  },
  {
   "cell_type": "code",
   "execution_count": 13,
   "metadata": {},
   "outputs": [
    {
     "name": "stdout",
     "output_type": "stream",
     "text": [
      "Introduzca una ruta/home/vant/Escritorio/Genetica\n",
      "/home/vant/Escritorio/Python\n"
     ]
    }
   ],
   "source": [
    "import os\n",
    "ruta_usuario = input (\"Introduzca una ruta\")\n",
    "\n",
    "# comprobar si la ruta existe\n",
    "\n",
    "if os.path.exists(ruta) :\n",
    "    print(\"La ruta existe\")\n",
    "else :\n",
    "    print(\"Ruta inexistente\")\n",
    "\n",
    "# comprobar si es un fichero o un directorio\n",
    "if os.path.isfile(ruta) :\n",
    "    print(\"La ruta es un fichero\")\n",
    "else:\n",
    "    print(\"La ruta es un directorio\")\n",
    "    \n",
    "lista_directorios2 = os.listdir(ruta)\n",
    "\n",
    "#para cada directorio dentro de la lista\n",
    "for directorio in lista_directorios2:\n",
    "    #si es un fichero\n",
    "    if os.path.isfile(ruta + \"/\" + directorio):\n",
    "        print(ruta + \"/\" + directorio, \"es un fichero\")\n",
    "    #si es una carpeta (directorio)    \n",
    "    elif os.path.isdir(ruta + \"/\" + directorio):\n",
    "        print(ruta + \"/\" + directorio, \"es una carpeta\")\n",
    "        lista_directorios2(ruta + \"/\" + directorio)\n",
    "        else:\n",
    "        print(\"ERROR: la ruta\", ruta, \"no existe o no es una carpeta\")\n",
    "    \n"
   ]
  },
  {
   "cell_type": "code",
   "execution_count": null,
   "metadata": {},
   "outputs": [],
   "source": []
  }
 ],
 "metadata": {
  "kernelspec": {
   "display_name": "Python 3 (ipykernel)",
   "language": "python",
   "name": "python3"
  },
  "language_info": {
   "codemirror_mode": {
    "name": "ipython",
    "version": 3
   },
   "file_extension": ".py",
   "mimetype": "text/x-python",
   "name": "python",
   "nbconvert_exporter": "python",
   "pygments_lexer": "ipython3",
   "version": "3.11.0"
  }
 },
 "nbformat": 4,
 "nbformat_minor": 2
}
