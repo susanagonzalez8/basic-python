{
 "cells": [
  {
   "cell_type": "markdown",
   "metadata": {},
   "source": [
    "# Máster en Bioinformática Aplicada a Medicina Personalizada y Salud \n",
    "# curso 2022-2023"
   ]
  },
  {
   "cell_type": "markdown",
   "metadata": {},
   "source": [
    "# Nombre y apellidos:"
   ]
  },
  {
   "cell_type": "markdown",
   "metadata": {},
   "source": [
    "## Ejercicio 1\n",
    "1. Crear una lista con el nombre de 6 aminoácidos\n",
    "2. Insertar uno más al final\n",
    "3. Pedir el nombre de uno de ellos al usuario y eliminarlo\n",
    "4. Ordenar la lista alfabéticamente\n",
    "5. Imprimir el número de elementos de la lista\n",
    "\n",
    "Imprimir la lista después de cada paso"
   ]
  },
  {
   "cell_type": "code",
   "execution_count": null,
   "metadata": {},
   "outputs": [],
   "source": [
    "# Solución\n",
    "lista_aa = [\"ARG\", \"PHE\", \"ALA\", \"CYS\", \"GLY\", \"ARG\"]\n",
    "print(lista_aa)\n",
    "lista_aa.append(\"LYS\")\n",
    "print(lista_aa)\n",
    "aa_usuario = input(\"AA a borrar: \")\n",
    "#lista_aa.remove(aa_usuario) Si solo quiero eliminar uno\n",
    "lista_aa_aux = []\n",
    "for aa in lista_aa:             #recorro toda la lista\n",
    "    if aa != aa_usuario:        #miro que coincida el elemento con el buscado\n",
    "        lista_aa_aux.append(aa) #si es diferente, lo añado\n",
    "lista_aa = lista_aa_aux\n",
    "print(lista_aa)\n",
    "lista_aa.sort()\n",
    "print(lista_aa)\n",
    "print(len(lista_aa))"
   ]
  },
  {
   "cell_type": "markdown",
   "metadata": {},
   "source": [
    "## Ejercicio 2\n",
    "Ordenar una lista manteniendo una copia de la versión original."
   ]
  },
  {
   "cell_type": "code",
   "execution_count": null,
   "metadata": {},
   "outputs": [],
   "source": [
    "# Solución\n",
    "lista_orig = [\"a\", \"z\", \"b\", \"h\", \"i\"]\n",
    "lista_new = lista_orig.copy()\n",
    "lista_new.sort()\n",
    "print(lista_orig)\n",
    "print(lista_new)"
   ]
  },
  {
   "cell_type": "markdown",
   "metadata": {},
   "source": [
    "## Ejercicio 3\n",
    "Escribir un programa que pida al usuario números enteros hasta que introduzca un 0. Al finalizar el programa debe mostrar la cantidad de números introducidos."
   ]
  },
  {
   "cell_type": "code",
   "execution_count": null,
   "metadata": {},
   "outputs": [],
   "source": [
    "# Solución\n",
    "#num = -1\n",
    "#lista_num = []\n",
    "#while num != 0:\n",
    "#    num = int(input(\"Introduce un num: \"))\n",
    "#    lista_num.append(num)\n",
    "\n",
    "#print(\"El número de números es: %d\" % len(lista_num))\n",
    "#print(\"El número de números es: \" + str(len(lista_num)-1))\n",
    "\n",
    "num = -1\n",
    "count = 0\n",
    "while num != 0:\n",
    "    num = int(input(\"Introduce un num: \"))\n",
    "    count += 1 # count = count + 1\n",
    "    \n",
    "print(\"El número de números es: \" + str(count-1))"
   ]
  },
  {
   "cell_type": "markdown",
   "metadata": {},
   "source": [
    "## Ejercicio 4\n",
    "Pedir al usuario una cadena de adn y contar cuántas veces aparece cada una de las bases.\n",
    "Hacer que esto se repita en un bucle infinito que vaya pidiendo distintas cadenas. El programa finalizará si se teclea la palabra fin."
   ]
  },
  {
   "cell_type": "code",
   "execution_count": null,
   "metadata": {},
   "outputs": [],
   "source": [
    "# Solución\n",
    "cadena_adn = input(\"Introduzca cadena: \")\n",
    "cadena_adn = cadena_adn.lower()\n",
    "while cadena_adn != \"fin\":\n",
    "    count_a = cadena_adn.count(\"a\")\n",
    "    count_t = cadena_adn.count(\"t\")\n",
    "    count_c = cadena_adn.count(\"c\")\n",
    "    count_g = cadena_adn.count(\"g\")\n",
    "    print(\"El número de adeninas es: \" + str(count_a))\n",
    "    print(\"El número de timinas es: \" + str(count_t))\n",
    "    print(\"El número de citosinas es: \" + str(count_c))\n",
    "    print(\"El número de guaninas es: \" + str(count_g))\n",
    "    cadena_adn = input(\"Introduzca cadena: \")\n",
    "    cadena_adn = cadena_adn.lower()\n",
    "    \n",
    "print(\"FIN\")"
   ]
  },
  {
   "cell_type": "markdown",
   "metadata": {},
   "source": [
    "## Ejercicio 5\n",
    "Mostrar por pantalla las tablas de multiplicar del 1 al 9. \n",
    "Deberá aparecer algo como:\n",
    "\n",
    "\t1*1 es 1\n",
    "\t1*2 es 2\n",
    "\t1*3 es 3\n",
    "          …"
   ]
  },
  {
   "cell_type": "code",
   "execution_count": null,
   "metadata": {},
   "outputs": [],
   "source": [
    "# Solución"
   ]
  },
  {
   "cell_type": "markdown",
   "metadata": {},
   "source": [
    "## Ejercicio 6\n",
    "1. Crear un diccionario con el nombre de un animal como clave, y su nombre en latín como valor.\n",
    "2. Todos los datos se irán pidiendo al usuario por pantalla.\n",
    "3. Cada vez que se introduzcan los datos de un animal se imprimirán todos los datos del diccionario.\n",
    "4. Si un animal ya se ha introducido se le dirá al usuario."
   ]
  },
  {
   "cell_type": "code",
   "execution_count": null,
   "metadata": {},
   "outputs": [],
   "source": [
    "# Solución"
   ]
  },
  {
   "cell_type": "markdown",
   "metadata": {},
   "source": [
    "## Ejercicio 7\n",
    "1. Crear un diccionario con el nombre de las 4 bases nitrogenadas del adn como clave y como valor  otro diccionario con dos elementos: la primera clave es ‘abreviatura’ y la segunda ‘tipo’ (indicando si es púrica o pirimídica).\n",
    "2. Acceder al diccionario para imprimir las abreviaturas.\n",
    "3. Insertar el uracilo. \n",
    "4. Volver a acceder al diccionario para imprimir las abreviaturas.\n",
    "5. Imprimir los nombres de todos las bases, abreviatura y tipo con algún tipo de formato"
   ]
  },
  {
   "cell_type": "code",
   "execution_count": null,
   "metadata": {},
   "outputs": [],
   "source": [
    "# Solución"
   ]
  },
  {
   "cell_type": "markdown",
   "metadata": {},
   "source": [
    "## Ejercicio 8\n",
    "Realizar un programa que pida al usuario el nombre de un fichero, lo abra, cuente cuántas palabras de cada tipo existen y lo muestre por pantalla."
   ]
  },
  {
   "cell_type": "code",
   "execution_count": null,
   "metadata": {},
   "outputs": [],
   "source": [
    "# Solución"
   ]
  },
  {
   "cell_type": "markdown",
   "metadata": {},
   "source": [
    "## Ejercicio 9\n",
    "Abrir un fichero de genbank con datos de adn.\n",
    "\n",
    "Contar cuántas veces aparece cada una de las bases en la cadena de DNA.\n",
    "\n",
    "Usando un diccionario que tiene como clave los codones y como valor el  aminoácido correspondiente, convertir todo el DNA en aminoácidos y guardarlo en un fichero llamado amino.txt. \n",
    "\n",
    "Contar cuántos aminoácidos de cada tipo hay.\n",
    "\n",
    "Por pantalla solicitar al usuario un porcentaje y mostrar cuáles son los aminoácidos por encima de ese porcentaje."
   ]
  },
  {
   "cell_type": "code",
   "execution_count": 27,
   "metadata": {
    "scrolled": true
   },
   "outputs": [
    {
     "name": "stdout",
     "output_type": "stream",
     "text": [
      "{'D': 1.7899761336515514, 'P': 3.9379474940334127, 'T': 9.009546539379475, 'V': 3.639618138424821, 'S': 12.11217183770883, 'Q': 4.176610978520286, '_': 5.6682577565632455, 'I': 7.398568019093079, 'E': 2.20763723150358, 'L': 13.365155131264917, 'R': 4.713603818615752, 'N': 4.77326968973747, 'A': 2.684964200477327, 'H': 3.4009546539379474, 'K': 5.4892601431980905, 'F': 6.205250596658711, 'Y': 0.8353221957040573, 'G': 2.3269689737470167, 'W': 1.1336515513126493, 'C': 2.7446300715990453, 'M': 2.386634844868735}\n",
      "Introduce porcentaje objetivo: 10\n",
      "S\n",
      "L\n"
     ]
    }
   ],
   "source": [
    "# Solución\n",
    "codon2aa = {\"AAA\":\"K\", \"AAC\":\"N\", \"AAG\":\"K\", \"AAU\":\"N\", \n",
    "            \"ACA\":\"T\", \"ACC\":\"T\", \"ACG\":\"T\", \"ACU\":\"T\", \n",
    "            \"AGA\":\"R\", \"AGC\":\"S\", \"AGG\":\"R\", \"AGU\":\"S\", \n",
    "            \"AUA\":\"I\", \"AUC\":\"I\", \"AUG\":\"M\", \"AUU\":\"I\", \n",
    "\n",
    "            \"CAA\":\"Q\", \"CAC\":\"H\", \"CAG\":\"Q\", \"CAU\":\"H\", \n",
    "            \"CCA\":\"P\", \"CCC\":\"P\", \"CCG\":\"P\", \"CCU\":\"P\", \n",
    "            \"CGA\":\"R\", \"CGC\":\"R\", \"CGG\":\"R\", \"CGU\":\"R\", \n",
    "            \"CUA\":\"L\", \"CUC\":\"L\", \"CUG\":\"L\", \"CUU\":\"L\", \n",
    "\n",
    "            \"GAA\":\"E\", \"GAC\":\"D\", \"GAG\":\"E\", \"GAU\":\"D\", \n",
    "            \"GCA\":\"A\", \"GCC\":\"A\", \"GCG\":\"A\", \"GCU\":\"A\", \n",
    "            \"GGA\":\"G\", \"GGC\":\"G\", \"GGG\":\"G\", \"GGU\":\"G\", \n",
    "            \"GUA\":\"V\", \"GUC\":\"V\", \"GUG\":\"V\", \"GUU\":\"V\", \n",
    "\n",
    "            \"UAA\":\"_\", \"UAC\":\"Y\", \"UAG\":\"_\", \"UAU\":\"T\", \n",
    "            \"UCA\":\"S\", \"UCC\":\"S\", \"UCG\":\"S\", \"UCU\":\"S\", \n",
    "            \"UGA\":\"_\", \"UGC\":\"C\", \"UGG\":\"W\", \"UGU\":\"C\", \n",
    "            \"UUA\":\"L\", \"UUC\":\"F\", \"UUG\":\"L\", \"UUU\":\"F\"\n",
    "           }\n",
    "\n",
    "# Tratamiento de ficheros para lectura\n",
    "#nombre_fichero = input(\"Introduzca el nombre del fichero: \")\n",
    "\n",
    "# abrimos el fichero\n",
    "#fichero_lectura = open(nombre_fichero)\n",
    "fichero_lectura = open(\"ejemploGenbank.gb\")\n",
    "\n",
    "# recorremos cada una de las líneas\n",
    "# mientras no encuentre la palabra 'ORIGIN' no hago nada con la línea\n",
    "for linea in fichero_lectura :\n",
    "    if 'ORIGIN' in linea :\n",
    "        break\n",
    "\n",
    "# a partir de aquí, el puntero de fichero estaría apuntando a la línea siguiente de 'ORIGIN'\n",
    "cadena = '' # creamos una cadena vacía en la que tendremos todo el ADN\n",
    "# recorremos el resto de las líneas\n",
    "for linea in fichero_lectura :\n",
    "    # si el caracter es una de las bases, lo aÃ±adimos a la cadena (y si no, simplemente lo ignoramos)\n",
    "    for caracter in linea :\n",
    "        if caracter == 'a' or caracter == 'g' or caracter == 't' or caracter == 'c' : \n",
    "            cadena += caracter\n",
    "\n",
    "# lo convertimos a mayúsculas\n",
    "cadena = cadena.upper()\n",
    "#print(cadena)\n",
    "            \n",
    "# cerramos el fichero\n",
    "fichero_lectura.close()\n",
    "\n",
    "# cambio las T por U\n",
    "cadena = cadena.replace('T', 'U')\n",
    "#\n",
    "cadena_aa = \"\"\n",
    "# el bucle recorre los valores entre 0 y longitud de cadena,\n",
    "# saltando de 3 en 3\n",
    "# 0, 3, 6, 9...\n",
    "for codon_index in range(0, len(cadena), 3):\n",
    "    # extraigo las bases desde codon_index hasta codon_index + 2 (ambas inclusive)\n",
    "    # saco codon_index, codon_index+1 y codon_index+2 (en total 3)\n",
    "    codon = cadena[codon_index : codon_index + 3]\n",
    "    if codon in codon2aa:\n",
    "        cadena_aa += (codon2aa[codon]) #cadena_aa = cadena_aa + (codon2aa[codon])\n",
    "    else:\n",
    "        print(codon)\n",
    "        \n",
    "# abro el fichero en modo de escritura\n",
    "fichero_amino = open(\"amino.txt\", \"w\")\n",
    "# escribo la cadena\n",
    "fichero_amino.write(cadena_aa)\n",
    "# el fichero no lo uso, así que lo cierro\n",
    "fichero_amino.close()\n",
    "\n",
    "# creo un diccionario\n",
    "amino_dict = {}\n",
    "# recorro todos los aa de la cadena\n",
    "for amino in cadena_aa:\n",
    "    if amino in amino_dict:\n",
    "        amino_dict[amino] += 1\n",
    "    else:\n",
    "        amino_dict[amino] = 1\n",
    "        \n",
    "# obtengo el total de aa\n",
    "num_amino = len(cadena_aa)\n",
    "\n",
    "# convierto de valor absoluto a frecuencia\n",
    "for amino in amino_dict:\n",
    "    # la fórmula es: 100 * valor absoluto del aminoácido en cuestión / numero total\n",
    "    amino_dict[amino] = (100 * amino_dict[amino] / num_amino)\n",
    "\n",
    "print(amino_dict)\n",
    "    \n",
    "# solicitar porcentaje\n",
    "target_percent = float(input(\"Introduce porcentaje objetivo: \"))\n",
    "\n",
    "# averiguar todos los que superan ese porcentaje\n",
    "for amino in amino_dict:\n",
    "    if target_percent < amino_dict[amino]:\n",
    "        print(amino)"
   ]
  },
  {
   "cell_type": "markdown",
   "metadata": {},
   "source": [
    "## Ejercicio 10\n",
    "Escribir un programa que pida al usuario el número del que se quiere calcular el factorial:\n",
    "\t\n",
    "    a) Definir una función que calcule el factorial del número. \n",
    "    b) Definir una función que calcule el factorial del número de manera recursiva. "
   ]
  },
  {
   "cell_type": "code",
   "execution_count": 4,
   "metadata": {},
   "outputs": [],
   "source": [
    "# Solución a"
   ]
  },
  {
   "cell_type": "code",
   "execution_count": null,
   "metadata": {},
   "outputs": [],
   "source": [
    "# Solución b"
   ]
  },
  {
   "cell_type": "markdown",
   "metadata": {},
   "source": [
    "## Ejercicio 11\n",
    "Definir una función que convierta codones en aminoácidos."
   ]
  },
  {
   "cell_type": "code",
   "execution_count": null,
   "metadata": {},
   "outputs": [],
   "source": [
    "# Solución"
   ]
  },
  {
   "cell_type": "markdown",
   "metadata": {},
   "source": [
    "## Ejercicio 12\n",
    "Definir una función que calcule la media de una lista de valores numéricos."
   ]
  },
  {
   "cell_type": "code",
   "execution_count": null,
   "metadata": {},
   "outputs": [],
   "source": [
    "# Solución"
   ]
  },
  {
   "cell_type": "markdown",
   "metadata": {},
   "source": [
    "## Ejercicio 13\n",
    "Definir una función que multiplique dos matrices de 4*4\n",
    "\n",
    "Redefinir la función para que pueda multiplicar matrices de cualquier tamaño\n",
    "\n",
    "Hacer un programa que pida al usuario el tamaño de las matrices a multiplicar, recoja por teclado los datos de las dos matrices y las multiplique\n",
    "\n",
    "Hacer un programa que pida al usuario el nombre de dos ficheros donde se encuentran guardadas sendas matrices, las lea y las multiplique guardando el resultado en un fichero cuyo nombre se ha pedido al usuario"
   ]
  },
  {
   "cell_type": "code",
   "execution_count": null,
   "metadata": {},
   "outputs": [],
   "source": [
    "# Solución"
   ]
  },
  {
   "cell_type": "markdown",
   "metadata": {},
   "source": [
    "## Ejercicio 14\n",
    "Crear una función que reciba una cadena de ADN y la convierta en una de ARN."
   ]
  },
  {
   "cell_type": "code",
   "execution_count": null,
   "metadata": {},
   "outputs": [],
   "source": [
    "# Solución"
   ]
  },
  {
   "cell_type": "markdown",
   "metadata": {},
   "source": [
    "## Ejercicio 15\n",
    "Para el siguiente código:\n",
    "\n",
    "\tre.match(‘(.*)(cat)(.*)', ‘the cat in the hat’)\n",
    "\t\t\n",
    "Determinar qué se identifica en cada uno de los grupos.\n",
    "\n",
    "Hacer lo mismo con:\n",
    "\n",
    "\tre.match(‘(.*)(at)(.*)', ‘the cat in the hat’)\n"
   ]
  },
  {
   "cell_type": "code",
   "execution_count": null,
   "metadata": {},
   "outputs": [],
   "source": [
    "# Solución"
   ]
  },
  {
   "cell_type": "markdown",
   "metadata": {},
   "source": [
    "## Ejercicio 16\n",
    "En PERL los nombres de variable se forman igual que en Python pero van precedidos del símbolo $.\n",
    "\n",
    "Crear un programa que pida al usuario una palabra y diga si es una variable legal de PERL\n"
   ]
  },
  {
   "cell_type": "code",
   "execution_count": null,
   "metadata": {},
   "outputs": [],
   "source": [
    "# Solución"
   ]
  },
  {
   "cell_type": "markdown",
   "metadata": {},
   "source": [
    "## Ejercicio 17\n",
    "En Python los números en punto flotante pueden aparecer con los siguientes formatos:\n",
    "\n",
    "    1.23\n",
    "    1.\n",
    "    3.14e-10\n",
    "    4E21\n",
    "    4.0e+45\n",
    "\n",
    "Crear un programa que pida al usuario un número y diga si es un número en punto flotante"
   ]
  },
  {
   "cell_type": "code",
   "execution_count": null,
   "metadata": {},
   "outputs": [],
   "source": [
    "# Solución"
   ]
  },
  {
   "cell_type": "markdown",
   "metadata": {},
   "source": [
    "## Ejercicio 18\n",
    "Crear un programa que abra el fichero GenBank.gb y haga lo siguiente:\n",
    "1. Guarde en un fichero toda la información que no se corresponda con los datos de una secuencia de ADN.\n",
    "2. Guarde en otro fichero los datos de secuencia.\n",
    "3. Analice cada línea de secuencia e indique en qué líneas aparece tca y en qué posición dentro de la línea.\n"
   ]
  },
  {
   "cell_type": "code",
   "execution_count": null,
   "metadata": {},
   "outputs": [],
   "source": [
    "# Solución"
   ]
  },
  {
   "cell_type": "markdown",
   "metadata": {},
   "source": [
    "## Ejercicio 19\n",
    "Crear un programa pida al usuario el nombre de un directorio, busque en este directorio todos los ficheros de tipo GenBank (extension.gb), los abra y diga de qué organismo contiene datos.\n",
    "\n",
    "Mejorarlo para que mire también en los subdirectorios del directorio dado."
   ]
  },
  {
   "cell_type": "code",
   "execution_count": null,
   "metadata": {},
   "outputs": [],
   "source": [
    "# Solución"
   ]
  },
  {
   "cell_type": "markdown",
   "metadata": {},
   "source": [
    "## Ejercicio 20\n",
    "Queremos almacenar los artículos que leemos en una base de datos (BD), pero no nos gusta ninguna de las disponibles, por lo tanto vamos a construirla nosotros mismos.\n",
    "\n",
    "La BD será una lista de diccionarios. Cada diccionario consta de 5 campos: Título del artículo, autores, revista, fecha y el nombre del fichero donde guardamos un resumen del artículo.\n",
    "\n",
    "El programa nos permitirá hacer una serie de cosas, elegidas por un menú:\n",
    "\t1. Introducir un nuevo elemento, esto implicará salvarlo en un archivo.\n",
    "\t2. Listar todos los artículos, especificando los 4 primeros campos.\n",
    "\t3. Buscar si existe un artículo dando una palabra clave del título.\n",
    "\t4. Buscar si existe un artículo dando el nombre de un autor\n",
    "\t5. Listar todos los artículos de una determinada revista.\n",
    "    \n",
    "Cada vez que se arranca el programa deberán recuperarse los datos almacenados previamente.\n"
   ]
  },
  {
   "cell_type": "code",
   "execution_count": null,
   "metadata": {
    "scrolled": true
   },
   "outputs": [
    {
     "name": "stdout",
     "output_type": "stream",
     "text": [
      "1) Introduce un nuevo elemento\n",
      "2) Lista los artículos\n",
      "3) Buscar por título\n",
      "4) Buscar por autor\n",
      "5) Buscar por revista\n",
      "0) Salir del programa\n",
      "¿Qué quieres hacer? 2\n",
      "Título: Python para Bioinformática \n",
      "\tAutores: Carlos González y Daniel Báscones \n",
      "\tRevista: UCM news \n",
      "\tFecha: 21/12/2022\n",
      "Título: Título 1 \n",
      "\tAutores: Autor 1 y autor 2 \n",
      "\tRevista: Revista 1 \n",
      "\tFecha: 20/02/2002\n",
      "Título: Hola \n",
      "\tAutores: Mar \n",
      "\tRevista: Aire \n",
      "\tFecha: 20/20/20\n"
     ]
    }
   ],
   "source": [
    "# Solución danibasc@ucm.es\n",
    "\n",
    "# 1) Crear la base de datos\n",
    "# Consiste en una lista de diccionarios\n",
    "\"\"\"\n",
    "BBDD_articulos = [\n",
    "    {\n",
    "        \"titulo\" : \"Python para Bioinformática\",\n",
    "        \"autores\" : \"Carlos González y Daniel Báscones\",\n",
    "        \"revista\" : \"UCM news\",\n",
    "        \"fecha\" : \"21/12/2022\",\n",
    "        \"fichero\" : \"py_bio_cgdb.txt\"\n",
    "    },\n",
    "    {\n",
    "        \"titulo\" : \"Título 1\",\n",
    "        \"autores\" : \"Autor 1 y autor 2\",\n",
    "        \"revista\" : \"Revista 1\",\n",
    "        \"fecha\" : \"20/02/2002\",\n",
    "        \"fichero\" : \"fichero.txt\"\n",
    "    }\n",
    "]\n",
    "\"\"\"\n",
    "BBDD_articulos = []\n",
    "fichero = open(\"BBDD_articulos.txt\")\n",
    "for linea in fichero:\n",
    "    #evito que se acumulen \"\\n\"\n",
    "    linea = linea.strip()\n",
    "    #separo en los diferentes campos\n",
    "    datos = linea.split(\";\")\n",
    "    #creo el artículo\n",
    "    art_dict = {\n",
    "        \"titulo\" : datos[0],\n",
    "        \"autores\" : datos[1],\n",
    "        \"revista\" : datos[2],\n",
    "        \"fecha\" : datos[3],\n",
    "        \"fichero\" : datos[4]\n",
    "    }\n",
    "    #añado el nuevo diccionario\n",
    "    BBDD_articulos.append(art_dict)\n",
    "    \n",
    "fichero.close()\n",
    "    \n",
    "#Python para Bioinformática;Carlos González y Daniel Báscones;UCM news;21/12/2022\";py_bio_cgdb.txt\n",
    "#Título 1;Autor 1 y autor 2;Revista 1;20/02/2002;fichero.txt\n",
    "\n",
    "# 2) Crear un menú que me permita elegir entre las 5 opciones\n",
    "# Vincular cada acción del menú con una de las funciones\n",
    "print(\"1) Introduce un nuevo elemento\")\n",
    "print(\"2) Lista los artículos\")\n",
    "print(\"3) Buscar por título\")\n",
    "print(\"4) Buscar por autor\")\n",
    "print(\"5) Buscar por revista\")\n",
    "print(\"0) Salir del programa\")\n",
    "\n",
    "def busqueda(campo):\n",
    "    keyword = input(\"Introduce una palabra clave: \")\n",
    "    for articulo in BBDD_articulos:\n",
    "        #if keyword.lower() in articulo[campo].lower().split():\n",
    "        if keyword.lower() in articulo[campo].lower():\n",
    "            print(articulo[\"titulo\"])\n",
    "            # \"opción literal\"\n",
    "            # print(\"Existe\")\n",
    "            # break\n",
    "\n",
    "while True:\n",
    "    opcion = int(input(\"¿Qué quieres hacer? \"))\n",
    "\n",
    "    if opcion == 0:\n",
    "        fichero = open(\"BBDD_articulos.txt\", \"w\")\n",
    "        for articulo in BBDD_articulos:\n",
    "            cadena_guardado = articulo[\"titulo\"] + \";\" + articulo[\"autores\"] + \";\" + articulo[\"revista\"] + \";\" + articulo[\"fecha\"] + \";\" + articulo[\"fichero\"] + \"\\n\"\n",
    "            fichero.write(cadena_guardado)\n",
    "        fichero.close()\n",
    "        print(\"Cerrando programa...\")\n",
    "        break\n",
    "    # introducir uno nuevo\n",
    "    elif opcion == 1:\n",
    "        #recojo datos\n",
    "        art_titulo = input(\"Titulo: \")\n",
    "        art_autores = input(\"Autores: \")\n",
    "        art_revista = input(\"Revista: \")\n",
    "        art_fecha = input(\"Fecha: \")\n",
    "        art_fichero = input(\"Fichero: \")\n",
    "        #creo el dict\n",
    "        art_dict = {\n",
    "            \"titulo\" : art_titulo,\n",
    "            \"autores\" : art_autores,\n",
    "            \"revista\" : art_revista,\n",
    "            \"fecha\" : art_fecha,\n",
    "            \"fichero\" : art_fichero\n",
    "        }\n",
    "        #añado el nuevo diccionario\n",
    "        BBDD_articulos.append(art_dict)\n",
    "        \n",
    "    # compruebo que la opción sea 2: listar artículos\n",
    "    elif opcion == 2:\n",
    "        # print(BBDD_articulos)\n",
    "        for articulo in BBDD_articulos:\n",
    "            print(\"Título:\", articulo[\"titulo\"], \\\n",
    "                  \"\\n\\tAutores:\", articulo[\"autores\"], \\\n",
    "                 \"\\n\\tRevista:\", articulo[\"revista\"], \\\n",
    "                 \"\\n\\tFecha:\", articulo[\"fecha\"])\n",
    "    # Búsqueda por título\n",
    "    elif opcion == 3:\n",
    "        busqueda(\"titulo\")\n",
    "    # Búsqueda por autores\n",
    "    elif opcion == 4:\n",
    "        busqueda(\"autores\")\n",
    "    # Búsqueda por revista\n",
    "    elif opcion == 5:\n",
    "        busqueda(\"revista\")\n",
    "    else:\n",
    "        print(\"Opción no disponible\")\n",
    "    \n",
    "# 3) Volcar los datos de la base a un archivo, y recuperarlos al iniciar el programa"
   ]
  },
  {
   "cell_type": "code",
   "execution_count": null,
   "metadata": {},
   "outputs": [],
   "source": []
  },
  {
   "cell_type": "code",
   "execution_count": 40,
   "metadata": {},
   "outputs": [
    {
     "name": "stdout",
     "output_type": "stream",
     "text": [
      "AsdaSDgasd\n"
     ]
    }
   ],
   "source": [
    "cadena = \"AsdaSDgasd\"\n",
    "cadena.lower()\n",
    "print(cadena)"
   ]
  },
  {
   "cell_type": "code",
   "execution_count": null,
   "metadata": {},
   "outputs": [],
   "source": []
  }
 ],
 "metadata": {
  "kernelspec": {
   "display_name": "Python 3 (ipykernel)",
   "language": "python",
   "name": "python3"
  },
  "language_info": {
   "codemirror_mode": {
    "name": "ipython",
    "version": 3
   },
   "file_extension": ".py",
   "mimetype": "text/x-python",
   "name": "python",
   "nbconvert_exporter": "python",
   "pygments_lexer": "ipython3",
   "version": "3.11.0"
  }
 },
 "nbformat": 4,
 "nbformat_minor": 2
}
